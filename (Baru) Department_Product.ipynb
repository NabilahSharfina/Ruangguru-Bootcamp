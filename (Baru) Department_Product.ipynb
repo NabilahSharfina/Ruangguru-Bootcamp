{
  "nbformat": 4,
  "nbformat_minor": 0,
  "metadata": {
    "colab": {
      "name": "(Baru) Department Product.ipynb",
      "provenance": [],
      "toc_visible": true,
      "authorship_tag": "ABX9TyOjWJO5lb2zYiTq1l6Fxmkb",
      "include_colab_link": true
    },
    "kernelspec": {
      "name": "python3",
      "display_name": "Python 3"
    },
    "language_info": {
      "name": "python"
    }
  },
  "cells": [
    {
      "cell_type": "markdown",
      "metadata": {
        "id": "view-in-github",
        "colab_type": "text"
      },
      "source": [
        "<a href=\"https://colab.research.google.com/github/NabilahSharfina/Ruangguru-Bootcamp/blob/main/(Baru)%20Department_Product.ipynb\" target=\"_parent\"><img src=\"https://colab.research.google.com/assets/colab-badge.svg\" alt=\"Open In Colab\"/></a>"
      ]
    },
    {
      "cell_type": "code",
      "source": [
        "# Load data from google drive\n",
        "from google.colab import drive\n",
        "drive.mount('/content/drive')"
      ],
      "metadata": {
        "colab": {
          "base_uri": "https://localhost:8080/"
        },
        "id": "DDWEYInqvpn3",
        "outputId": "4af877ce-c270-4284-ecf5-878adf1ca07e"
      },
      "execution_count": 2,
      "outputs": [
        {
          "output_type": "stream",
          "name": "stdout",
          "text": [
            "Mounted at /content/drive\n"
          ]
        }
      ]
    },
    {
      "cell_type": "code",
      "execution_count": 42,
      "metadata": {
        "id": "3mlqgGzGvcYm"
      },
      "outputs": [],
      "source": [
        "import numpy as np # for performing mathematical calculations behind ML algorithms\n",
        "import matplotlib.pyplot as plt # for visualization\n",
        "import pandas as pd # for handling and cleaning the dataset\n",
        "import seaborn as sns # for visualization\n",
        "import sklearn # for model evaluation and development"
      ]
    },
    {
      "cell_type": "markdown",
      "source": [
        "# READING DATA "
      ],
      "metadata": {
        "id": "_Pd6jTSbOudr"
      }
    },
    {
      "cell_type": "code",
      "source": [
        "# Dataframe Tabel inventory_items\n",
        "inv_items = pd.read_csv('/content/drive/MyDrive/KAMPUS MERDEKA BATCH 2/Project Ruang Guru Kel 255/Dataset Final Project DBA/inventory_items.csv')\n",
        "inv_items.head()"
      ],
      "metadata": {
        "colab": {
          "base_uri": "https://localhost:8080/",
          "height": 531
        },
        "id": "-7vS8uAnvvEF",
        "outputId": "27fadc3c-cd8d-4433-a488-99a95cf175c2"
      },
      "execution_count": 63,
      "outputs": [
        {
          "output_type": "execute_result",
          "data": {
            "text/plain": [
              "      id  product_id                 created_at                    sold_at  \\\n",
              "0  90967       16898  2021-07-19 02:20:10+00:00  2021-07-20 14:34:10+00:00   \n",
              "1  90968       16898  2020-04-13 07:46:00+00:00                        NaN   \n",
              "2  90969       16898  2020-09-02 17:43:00+00:00                        NaN   \n",
              "3  90970       16898  2021-08-19 15:17:00+00:00                        NaN   \n",
              "4  96715       16898  2020-05-09 11:16:10+00:00  2020-06-23 23:59:10+00:00   \n",
              "\n",
              "     cost product_category                           product_name  \\\n",
              "0  13.925      Tops & Tees  Quiksilver Waterman Men's On The Rise   \n",
              "1  13.925      Tops & Tees  Quiksilver Waterman Men's On The Rise   \n",
              "2  13.925      Tops & Tees  Quiksilver Waterman Men's On The Rise   \n",
              "3  13.925      Tops & Tees  Quiksilver Waterman Men's On The Rise   \n",
              "4  13.925      Tops & Tees  Quiksilver Waterman Men's On The Rise   \n",
              "\n",
              "  product_brand  product_retail_price product_department  \\\n",
              "0           NaN                  25.0                Men   \n",
              "1           NaN                  25.0                Men   \n",
              "2           NaN                  25.0                Men   \n",
              "3           NaN                  25.0                Men   \n",
              "4           NaN                  25.0                Men   \n",
              "\n",
              "                        product_sku  product_distribution_center_id  \n",
              "0  22811EE19846217512507785E74D12CC                               3  \n",
              "1  22811EE19846217512507785E74D12CC                               3  \n",
              "2  22811EE19846217512507785E74D12CC                               3  \n",
              "3  22811EE19846217512507785E74D12CC                               3  \n",
              "4  22811EE19846217512507785E74D12CC                               3  "
            ],
            "text/html": [
              "\n",
              "  <div id=\"df-2a8a401a-09b0-4bbf-892a-adfbae98d283\">\n",
              "    <div class=\"colab-df-container\">\n",
              "      <div>\n",
              "<style scoped>\n",
              "    .dataframe tbody tr th:only-of-type {\n",
              "        vertical-align: middle;\n",
              "    }\n",
              "\n",
              "    .dataframe tbody tr th {\n",
              "        vertical-align: top;\n",
              "    }\n",
              "\n",
              "    .dataframe thead th {\n",
              "        text-align: right;\n",
              "    }\n",
              "</style>\n",
              "<table border=\"1\" class=\"dataframe\">\n",
              "  <thead>\n",
              "    <tr style=\"text-align: right;\">\n",
              "      <th></th>\n",
              "      <th>id</th>\n",
              "      <th>product_id</th>\n",
              "      <th>created_at</th>\n",
              "      <th>sold_at</th>\n",
              "      <th>cost</th>\n",
              "      <th>product_category</th>\n",
              "      <th>product_name</th>\n",
              "      <th>product_brand</th>\n",
              "      <th>product_retail_price</th>\n",
              "      <th>product_department</th>\n",
              "      <th>product_sku</th>\n",
              "      <th>product_distribution_center_id</th>\n",
              "    </tr>\n",
              "  </thead>\n",
              "  <tbody>\n",
              "    <tr>\n",
              "      <th>0</th>\n",
              "      <td>90967</td>\n",
              "      <td>16898</td>\n",
              "      <td>2021-07-19 02:20:10+00:00</td>\n",
              "      <td>2021-07-20 14:34:10+00:00</td>\n",
              "      <td>13.925</td>\n",
              "      <td>Tops &amp; Tees</td>\n",
              "      <td>Quiksilver Waterman Men's On The Rise</td>\n",
              "      <td>NaN</td>\n",
              "      <td>25.0</td>\n",
              "      <td>Men</td>\n",
              "      <td>22811EE19846217512507785E74D12CC</td>\n",
              "      <td>3</td>\n",
              "    </tr>\n",
              "    <tr>\n",
              "      <th>1</th>\n",
              "      <td>90968</td>\n",
              "      <td>16898</td>\n",
              "      <td>2020-04-13 07:46:00+00:00</td>\n",
              "      <td>NaN</td>\n",
              "      <td>13.925</td>\n",
              "      <td>Tops &amp; Tees</td>\n",
              "      <td>Quiksilver Waterman Men's On The Rise</td>\n",
              "      <td>NaN</td>\n",
              "      <td>25.0</td>\n",
              "      <td>Men</td>\n",
              "      <td>22811EE19846217512507785E74D12CC</td>\n",
              "      <td>3</td>\n",
              "    </tr>\n",
              "    <tr>\n",
              "      <th>2</th>\n",
              "      <td>90969</td>\n",
              "      <td>16898</td>\n",
              "      <td>2020-09-02 17:43:00+00:00</td>\n",
              "      <td>NaN</td>\n",
              "      <td>13.925</td>\n",
              "      <td>Tops &amp; Tees</td>\n",
              "      <td>Quiksilver Waterman Men's On The Rise</td>\n",
              "      <td>NaN</td>\n",
              "      <td>25.0</td>\n",
              "      <td>Men</td>\n",
              "      <td>22811EE19846217512507785E74D12CC</td>\n",
              "      <td>3</td>\n",
              "    </tr>\n",
              "    <tr>\n",
              "      <th>3</th>\n",
              "      <td>90970</td>\n",
              "      <td>16898</td>\n",
              "      <td>2021-08-19 15:17:00+00:00</td>\n",
              "      <td>NaN</td>\n",
              "      <td>13.925</td>\n",
              "      <td>Tops &amp; Tees</td>\n",
              "      <td>Quiksilver Waterman Men's On The Rise</td>\n",
              "      <td>NaN</td>\n",
              "      <td>25.0</td>\n",
              "      <td>Men</td>\n",
              "      <td>22811EE19846217512507785E74D12CC</td>\n",
              "      <td>3</td>\n",
              "    </tr>\n",
              "    <tr>\n",
              "      <th>4</th>\n",
              "      <td>96715</td>\n",
              "      <td>16898</td>\n",
              "      <td>2020-05-09 11:16:10+00:00</td>\n",
              "      <td>2020-06-23 23:59:10+00:00</td>\n",
              "      <td>13.925</td>\n",
              "      <td>Tops &amp; Tees</td>\n",
              "      <td>Quiksilver Waterman Men's On The Rise</td>\n",
              "      <td>NaN</td>\n",
              "      <td>25.0</td>\n",
              "      <td>Men</td>\n",
              "      <td>22811EE19846217512507785E74D12CC</td>\n",
              "      <td>3</td>\n",
              "    </tr>\n",
              "  </tbody>\n",
              "</table>\n",
              "</div>\n",
              "      <button class=\"colab-df-convert\" onclick=\"convertToInteractive('df-2a8a401a-09b0-4bbf-892a-adfbae98d283')\"\n",
              "              title=\"Convert this dataframe to an interactive table.\"\n",
              "              style=\"display:none;\">\n",
              "        \n",
              "  <svg xmlns=\"http://www.w3.org/2000/svg\" height=\"24px\"viewBox=\"0 0 24 24\"\n",
              "       width=\"24px\">\n",
              "    <path d=\"M0 0h24v24H0V0z\" fill=\"none\"/>\n",
              "    <path d=\"M18.56 5.44l.94 2.06.94-2.06 2.06-.94-2.06-.94-.94-2.06-.94 2.06-2.06.94zm-11 1L8.5 8.5l.94-2.06 2.06-.94-2.06-.94L8.5 2.5l-.94 2.06-2.06.94zm10 10l.94 2.06.94-2.06 2.06-.94-2.06-.94-.94-2.06-.94 2.06-2.06.94z\"/><path d=\"M17.41 7.96l-1.37-1.37c-.4-.4-.92-.59-1.43-.59-.52 0-1.04.2-1.43.59L10.3 9.45l-7.72 7.72c-.78.78-.78 2.05 0 2.83L4 21.41c.39.39.9.59 1.41.59.51 0 1.02-.2 1.41-.59l7.78-7.78 2.81-2.81c.8-.78.8-2.07 0-2.86zM5.41 20L4 18.59l7.72-7.72 1.47 1.35L5.41 20z\"/>\n",
              "  </svg>\n",
              "      </button>\n",
              "      \n",
              "  <style>\n",
              "    .colab-df-container {\n",
              "      display:flex;\n",
              "      flex-wrap:wrap;\n",
              "      gap: 12px;\n",
              "    }\n",
              "\n",
              "    .colab-df-convert {\n",
              "      background-color: #E8F0FE;\n",
              "      border: none;\n",
              "      border-radius: 50%;\n",
              "      cursor: pointer;\n",
              "      display: none;\n",
              "      fill: #1967D2;\n",
              "      height: 32px;\n",
              "      padding: 0 0 0 0;\n",
              "      width: 32px;\n",
              "    }\n",
              "\n",
              "    .colab-df-convert:hover {\n",
              "      background-color: #E2EBFA;\n",
              "      box-shadow: 0px 1px 2px rgba(60, 64, 67, 0.3), 0px 1px 3px 1px rgba(60, 64, 67, 0.15);\n",
              "      fill: #174EA6;\n",
              "    }\n",
              "\n",
              "    [theme=dark] .colab-df-convert {\n",
              "      background-color: #3B4455;\n",
              "      fill: #D2E3FC;\n",
              "    }\n",
              "\n",
              "    [theme=dark] .colab-df-convert:hover {\n",
              "      background-color: #434B5C;\n",
              "      box-shadow: 0px 1px 3px 1px rgba(0, 0, 0, 0.15);\n",
              "      filter: drop-shadow(0px 1px 2px rgba(0, 0, 0, 0.3));\n",
              "      fill: #FFFFFF;\n",
              "    }\n",
              "  </style>\n",
              "\n",
              "      <script>\n",
              "        const buttonEl =\n",
              "          document.querySelector('#df-2a8a401a-09b0-4bbf-892a-adfbae98d283 button.colab-df-convert');\n",
              "        buttonEl.style.display =\n",
              "          google.colab.kernel.accessAllowed ? 'block' : 'none';\n",
              "\n",
              "        async function convertToInteractive(key) {\n",
              "          const element = document.querySelector('#df-2a8a401a-09b0-4bbf-892a-adfbae98d283');\n",
              "          const dataTable =\n",
              "            await google.colab.kernel.invokeFunction('convertToInteractive',\n",
              "                                                     [key], {});\n",
              "          if (!dataTable) return;\n",
              "\n",
              "          const docLinkHtml = 'Like what you see? Visit the ' +\n",
              "            '<a target=\"_blank\" href=https://colab.research.google.com/notebooks/data_table.ipynb>data table notebook</a>'\n",
              "            + ' to learn more about interactive tables.';\n",
              "          element.innerHTML = '';\n",
              "          dataTable['output_type'] = 'display_data';\n",
              "          await google.colab.output.renderOutput(dataTable, element);\n",
              "          const docLink = document.createElement('div');\n",
              "          docLink.innerHTML = docLinkHtml;\n",
              "          element.appendChild(docLink);\n",
              "        }\n",
              "      </script>\n",
              "    </div>\n",
              "  </div>\n",
              "  "
            ]
          },
          "metadata": {},
          "execution_count": 63
        }
      ]
    },
    {
      "cell_type": "code",
      "source": [
        "# Melihat jumlah baris dan kolom\n",
        "inv_items.shape"
      ],
      "metadata": {
        "colab": {
          "base_uri": "https://localhost:8080/"
        },
        "id": "mw0F5oIDR1Cc",
        "outputId": "5d135de3-30eb-4589-9e53-7bf1a3b47271"
      },
      "execution_count": 62,
      "outputs": [
        {
          "output_type": "execute_result",
          "data": {
            "text/plain": [
              "(487394, 12)"
            ]
          },
          "metadata": {},
          "execution_count": 62
        }
      ]
    },
    {
      "cell_type": "code",
      "source": [
        "# Rename kolom id menjadi inv_item_id\n",
        "inv_items.rename(columns={\"id\":\"inv_item_id\"})"
      ],
      "metadata": {
        "colab": {
          "base_uri": "https://localhost:8080/",
          "height": 1000
        },
        "id": "QNy_GgGELxqB",
        "outputId": "b1283bf1-b7da-42c6-9810-d4846a9129c5"
      },
      "execution_count": 5,
      "outputs": [
        {
          "output_type": "execute_result",
          "data": {
            "text/plain": [
              "        inv_item_id  product_id                 created_at  \\\n",
              "0             90967       16898  2021-07-19 02:20:10+00:00   \n",
              "1             90968       16898  2020-04-13 07:46:00+00:00   \n",
              "2             90969       16898  2020-09-02 17:43:00+00:00   \n",
              "3             90970       16898  2021-08-19 15:17:00+00:00   \n",
              "4             96715       16898  2020-05-09 11:16:10+00:00   \n",
              "...             ...         ...                        ...   \n",
              "487389       234443       14392  2020-04-09 17:38:00+00:00   \n",
              "487390       290890       14392  2021-03-18 14:42:49+00:00   \n",
              "487391       290891       14392  2022-04-25 03:04:00+00:00   \n",
              "487392       301361       14392  2021-05-15 11:44:11+00:00   \n",
              "487393       301362       14392  2020-06-22 15:50:00+00:00   \n",
              "\n",
              "                          sold_at       cost product_category  \\\n",
              "0       2021-07-20 14:34:10+00:00  13.925000      Tops & Tees   \n",
              "1                             NaN  13.925000      Tops & Tees   \n",
              "2                             NaN  13.925000      Tops & Tees   \n",
              "3                             NaN  13.925000      Tops & Tees   \n",
              "4       2020-06-23 23:59:10+00:00  13.925000      Tops & Tees   \n",
              "...                           ...        ...              ...   \n",
              "487389                        NaN  15.752521        Maternity   \n",
              "487390  2021-05-15 04:49:49+00:00  15.752521        Maternity   \n",
              "487391                        NaN  15.752521        Maternity   \n",
              "487392  2021-06-27 04:00:11+00:00  15.752521        Maternity   \n",
              "487393                        NaN  15.752521        Maternity   \n",
              "\n",
              "                                             product_name  \\\n",
              "0                   Quiksilver Waterman Men's On The Rise   \n",
              "1                   Quiksilver Waterman Men's On The Rise   \n",
              "2                   Quiksilver Waterman Men's On The Rise   \n",
              "3                   Quiksilver Waterman Men's On The Rise   \n",
              "4                   Quiksilver Waterman Men's On The Rise   \n",
              "...                                                   ...   \n",
              "487389  La Leche League International Pullover Nursing...   \n",
              "487390  La Leche League International Pullover Nursing...   \n",
              "487391  La Leche League International Pullover Nursing...   \n",
              "487392  La Leche League International Pullover Nursing...   \n",
              "487393  La Leche League International Pullover Nursing...   \n",
              "\n",
              "                                    product_brand  product_retail_price  \\\n",
              "0                                             NaN             25.000000   \n",
              "1                                             NaN             25.000000   \n",
              "2                                             NaN             25.000000   \n",
              "3                                             NaN             25.000000   \n",
              "4                                             NaN             25.000000   \n",
              "...                                           ...                   ...   \n",
              "487389  La Leche League Sports Nurising Bra White             35.720001   \n",
              "487390  La Leche League Sports Nurising Bra White             35.720001   \n",
              "487391  La Leche League Sports Nurising Bra White             35.720001   \n",
              "487392  La Leche League Sports Nurising Bra White             35.720001   \n",
              "487393  La Leche League Sports Nurising Bra White             35.720001   \n",
              "\n",
              "       product_department                       product_sku  \\\n",
              "0                     Men  22811EE19846217512507785E74D12CC   \n",
              "1                     Men  22811EE19846217512507785E74D12CC   \n",
              "2                     Men  22811EE19846217512507785E74D12CC   \n",
              "3                     Men  22811EE19846217512507785E74D12CC   \n",
              "4                     Men  22811EE19846217512507785E74D12CC   \n",
              "...                   ...                               ...   \n",
              "487389              Women  625D2D3101C23C47A46984741C232FED   \n",
              "487390              Women  625D2D3101C23C47A46984741C232FED   \n",
              "487391              Women  625D2D3101C23C47A46984741C232FED   \n",
              "487392              Women  625D2D3101C23C47A46984741C232FED   \n",
              "487393              Women  625D2D3101C23C47A46984741C232FED   \n",
              "\n",
              "        product_distribution_center_id  \n",
              "0                                    3  \n",
              "1                                    3  \n",
              "2                                    3  \n",
              "3                                    3  \n",
              "4                                    3  \n",
              "...                                ...  \n",
              "487389                               9  \n",
              "487390                               9  \n",
              "487391                               9  \n",
              "487392                               9  \n",
              "487393                               9  \n",
              "\n",
              "[487394 rows x 12 columns]"
            ],
            "text/html": [
              "\n",
              "  <div id=\"df-9c94b003-7ac8-4117-a9e6-761a6506ae33\">\n",
              "    <div class=\"colab-df-container\">\n",
              "      <div>\n",
              "<style scoped>\n",
              "    .dataframe tbody tr th:only-of-type {\n",
              "        vertical-align: middle;\n",
              "    }\n",
              "\n",
              "    .dataframe tbody tr th {\n",
              "        vertical-align: top;\n",
              "    }\n",
              "\n",
              "    .dataframe thead th {\n",
              "        text-align: right;\n",
              "    }\n",
              "</style>\n",
              "<table border=\"1\" class=\"dataframe\">\n",
              "  <thead>\n",
              "    <tr style=\"text-align: right;\">\n",
              "      <th></th>\n",
              "      <th>inv_item_id</th>\n",
              "      <th>product_id</th>\n",
              "      <th>created_at</th>\n",
              "      <th>sold_at</th>\n",
              "      <th>cost</th>\n",
              "      <th>product_category</th>\n",
              "      <th>product_name</th>\n",
              "      <th>product_brand</th>\n",
              "      <th>product_retail_price</th>\n",
              "      <th>product_department</th>\n",
              "      <th>product_sku</th>\n",
              "      <th>product_distribution_center_id</th>\n",
              "    </tr>\n",
              "  </thead>\n",
              "  <tbody>\n",
              "    <tr>\n",
              "      <th>0</th>\n",
              "      <td>90967</td>\n",
              "      <td>16898</td>\n",
              "      <td>2021-07-19 02:20:10+00:00</td>\n",
              "      <td>2021-07-20 14:34:10+00:00</td>\n",
              "      <td>13.925000</td>\n",
              "      <td>Tops &amp; Tees</td>\n",
              "      <td>Quiksilver Waterman Men's On The Rise</td>\n",
              "      <td>NaN</td>\n",
              "      <td>25.000000</td>\n",
              "      <td>Men</td>\n",
              "      <td>22811EE19846217512507785E74D12CC</td>\n",
              "      <td>3</td>\n",
              "    </tr>\n",
              "    <tr>\n",
              "      <th>1</th>\n",
              "      <td>90968</td>\n",
              "      <td>16898</td>\n",
              "      <td>2020-04-13 07:46:00+00:00</td>\n",
              "      <td>NaN</td>\n",
              "      <td>13.925000</td>\n",
              "      <td>Tops &amp; Tees</td>\n",
              "      <td>Quiksilver Waterman Men's On The Rise</td>\n",
              "      <td>NaN</td>\n",
              "      <td>25.000000</td>\n",
              "      <td>Men</td>\n",
              "      <td>22811EE19846217512507785E74D12CC</td>\n",
              "      <td>3</td>\n",
              "    </tr>\n",
              "    <tr>\n",
              "      <th>2</th>\n",
              "      <td>90969</td>\n",
              "      <td>16898</td>\n",
              "      <td>2020-09-02 17:43:00+00:00</td>\n",
              "      <td>NaN</td>\n",
              "      <td>13.925000</td>\n",
              "      <td>Tops &amp; Tees</td>\n",
              "      <td>Quiksilver Waterman Men's On The Rise</td>\n",
              "      <td>NaN</td>\n",
              "      <td>25.000000</td>\n",
              "      <td>Men</td>\n",
              "      <td>22811EE19846217512507785E74D12CC</td>\n",
              "      <td>3</td>\n",
              "    </tr>\n",
              "    <tr>\n",
              "      <th>3</th>\n",
              "      <td>90970</td>\n",
              "      <td>16898</td>\n",
              "      <td>2021-08-19 15:17:00+00:00</td>\n",
              "      <td>NaN</td>\n",
              "      <td>13.925000</td>\n",
              "      <td>Tops &amp; Tees</td>\n",
              "      <td>Quiksilver Waterman Men's On The Rise</td>\n",
              "      <td>NaN</td>\n",
              "      <td>25.000000</td>\n",
              "      <td>Men</td>\n",
              "      <td>22811EE19846217512507785E74D12CC</td>\n",
              "      <td>3</td>\n",
              "    </tr>\n",
              "    <tr>\n",
              "      <th>4</th>\n",
              "      <td>96715</td>\n",
              "      <td>16898</td>\n",
              "      <td>2020-05-09 11:16:10+00:00</td>\n",
              "      <td>2020-06-23 23:59:10+00:00</td>\n",
              "      <td>13.925000</td>\n",
              "      <td>Tops &amp; Tees</td>\n",
              "      <td>Quiksilver Waterman Men's On The Rise</td>\n",
              "      <td>NaN</td>\n",
              "      <td>25.000000</td>\n",
              "      <td>Men</td>\n",
              "      <td>22811EE19846217512507785E74D12CC</td>\n",
              "      <td>3</td>\n",
              "    </tr>\n",
              "    <tr>\n",
              "      <th>...</th>\n",
              "      <td>...</td>\n",
              "      <td>...</td>\n",
              "      <td>...</td>\n",
              "      <td>...</td>\n",
              "      <td>...</td>\n",
              "      <td>...</td>\n",
              "      <td>...</td>\n",
              "      <td>...</td>\n",
              "      <td>...</td>\n",
              "      <td>...</td>\n",
              "      <td>...</td>\n",
              "      <td>...</td>\n",
              "    </tr>\n",
              "    <tr>\n",
              "      <th>487389</th>\n",
              "      <td>234443</td>\n",
              "      <td>14392</td>\n",
              "      <td>2020-04-09 17:38:00+00:00</td>\n",
              "      <td>NaN</td>\n",
              "      <td>15.752521</td>\n",
              "      <td>Maternity</td>\n",
              "      <td>La Leche League International Pullover Nursing...</td>\n",
              "      <td>La Leche League Sports Nurising Bra White</td>\n",
              "      <td>35.720001</td>\n",
              "      <td>Women</td>\n",
              "      <td>625D2D3101C23C47A46984741C232FED</td>\n",
              "      <td>9</td>\n",
              "    </tr>\n",
              "    <tr>\n",
              "      <th>487390</th>\n",
              "      <td>290890</td>\n",
              "      <td>14392</td>\n",
              "      <td>2021-03-18 14:42:49+00:00</td>\n",
              "      <td>2021-05-15 04:49:49+00:00</td>\n",
              "      <td>15.752521</td>\n",
              "      <td>Maternity</td>\n",
              "      <td>La Leche League International Pullover Nursing...</td>\n",
              "      <td>La Leche League Sports Nurising Bra White</td>\n",
              "      <td>35.720001</td>\n",
              "      <td>Women</td>\n",
              "      <td>625D2D3101C23C47A46984741C232FED</td>\n",
              "      <td>9</td>\n",
              "    </tr>\n",
              "    <tr>\n",
              "      <th>487391</th>\n",
              "      <td>290891</td>\n",
              "      <td>14392</td>\n",
              "      <td>2022-04-25 03:04:00+00:00</td>\n",
              "      <td>NaN</td>\n",
              "      <td>15.752521</td>\n",
              "      <td>Maternity</td>\n",
              "      <td>La Leche League International Pullover Nursing...</td>\n",
              "      <td>La Leche League Sports Nurising Bra White</td>\n",
              "      <td>35.720001</td>\n",
              "      <td>Women</td>\n",
              "      <td>625D2D3101C23C47A46984741C232FED</td>\n",
              "      <td>9</td>\n",
              "    </tr>\n",
              "    <tr>\n",
              "      <th>487392</th>\n",
              "      <td>301361</td>\n",
              "      <td>14392</td>\n",
              "      <td>2021-05-15 11:44:11+00:00</td>\n",
              "      <td>2021-06-27 04:00:11+00:00</td>\n",
              "      <td>15.752521</td>\n",
              "      <td>Maternity</td>\n",
              "      <td>La Leche League International Pullover Nursing...</td>\n",
              "      <td>La Leche League Sports Nurising Bra White</td>\n",
              "      <td>35.720001</td>\n",
              "      <td>Women</td>\n",
              "      <td>625D2D3101C23C47A46984741C232FED</td>\n",
              "      <td>9</td>\n",
              "    </tr>\n",
              "    <tr>\n",
              "      <th>487393</th>\n",
              "      <td>301362</td>\n",
              "      <td>14392</td>\n",
              "      <td>2020-06-22 15:50:00+00:00</td>\n",
              "      <td>NaN</td>\n",
              "      <td>15.752521</td>\n",
              "      <td>Maternity</td>\n",
              "      <td>La Leche League International Pullover Nursing...</td>\n",
              "      <td>La Leche League Sports Nurising Bra White</td>\n",
              "      <td>35.720001</td>\n",
              "      <td>Women</td>\n",
              "      <td>625D2D3101C23C47A46984741C232FED</td>\n",
              "      <td>9</td>\n",
              "    </tr>\n",
              "  </tbody>\n",
              "</table>\n",
              "<p>487394 rows × 12 columns</p>\n",
              "</div>\n",
              "      <button class=\"colab-df-convert\" onclick=\"convertToInteractive('df-9c94b003-7ac8-4117-a9e6-761a6506ae33')\"\n",
              "              title=\"Convert this dataframe to an interactive table.\"\n",
              "              style=\"display:none;\">\n",
              "        \n",
              "  <svg xmlns=\"http://www.w3.org/2000/svg\" height=\"24px\"viewBox=\"0 0 24 24\"\n",
              "       width=\"24px\">\n",
              "    <path d=\"M0 0h24v24H0V0z\" fill=\"none\"/>\n",
              "    <path d=\"M18.56 5.44l.94 2.06.94-2.06 2.06-.94-2.06-.94-.94-2.06-.94 2.06-2.06.94zm-11 1L8.5 8.5l.94-2.06 2.06-.94-2.06-.94L8.5 2.5l-.94 2.06-2.06.94zm10 10l.94 2.06.94-2.06 2.06-.94-2.06-.94-.94-2.06-.94 2.06-2.06.94z\"/><path d=\"M17.41 7.96l-1.37-1.37c-.4-.4-.92-.59-1.43-.59-.52 0-1.04.2-1.43.59L10.3 9.45l-7.72 7.72c-.78.78-.78 2.05 0 2.83L4 21.41c.39.39.9.59 1.41.59.51 0 1.02-.2 1.41-.59l7.78-7.78 2.81-2.81c.8-.78.8-2.07 0-2.86zM5.41 20L4 18.59l7.72-7.72 1.47 1.35L5.41 20z\"/>\n",
              "  </svg>\n",
              "      </button>\n",
              "      \n",
              "  <style>\n",
              "    .colab-df-container {\n",
              "      display:flex;\n",
              "      flex-wrap:wrap;\n",
              "      gap: 12px;\n",
              "    }\n",
              "\n",
              "    .colab-df-convert {\n",
              "      background-color: #E8F0FE;\n",
              "      border: none;\n",
              "      border-radius: 50%;\n",
              "      cursor: pointer;\n",
              "      display: none;\n",
              "      fill: #1967D2;\n",
              "      height: 32px;\n",
              "      padding: 0 0 0 0;\n",
              "      width: 32px;\n",
              "    }\n",
              "\n",
              "    .colab-df-convert:hover {\n",
              "      background-color: #E2EBFA;\n",
              "      box-shadow: 0px 1px 2px rgba(60, 64, 67, 0.3), 0px 1px 3px 1px rgba(60, 64, 67, 0.15);\n",
              "      fill: #174EA6;\n",
              "    }\n",
              "\n",
              "    [theme=dark] .colab-df-convert {\n",
              "      background-color: #3B4455;\n",
              "      fill: #D2E3FC;\n",
              "    }\n",
              "\n",
              "    [theme=dark] .colab-df-convert:hover {\n",
              "      background-color: #434B5C;\n",
              "      box-shadow: 0px 1px 3px 1px rgba(0, 0, 0, 0.15);\n",
              "      filter: drop-shadow(0px 1px 2px rgba(0, 0, 0, 0.3));\n",
              "      fill: #FFFFFF;\n",
              "    }\n",
              "  </style>\n",
              "\n",
              "      <script>\n",
              "        const buttonEl =\n",
              "          document.querySelector('#df-9c94b003-7ac8-4117-a9e6-761a6506ae33 button.colab-df-convert');\n",
              "        buttonEl.style.display =\n",
              "          google.colab.kernel.accessAllowed ? 'block' : 'none';\n",
              "\n",
              "        async function convertToInteractive(key) {\n",
              "          const element = document.querySelector('#df-9c94b003-7ac8-4117-a9e6-761a6506ae33');\n",
              "          const dataTable =\n",
              "            await google.colab.kernel.invokeFunction('convertToInteractive',\n",
              "                                                     [key], {});\n",
              "          if (!dataTable) return;\n",
              "\n",
              "          const docLinkHtml = 'Like what you see? Visit the ' +\n",
              "            '<a target=\"_blank\" href=https://colab.research.google.com/notebooks/data_table.ipynb>data table notebook</a>'\n",
              "            + ' to learn more about interactive tables.';\n",
              "          element.innerHTML = '';\n",
              "          dataTable['output_type'] = 'display_data';\n",
              "          await google.colab.output.renderOutput(dataTable, element);\n",
              "          const docLink = document.createElement('div');\n",
              "          docLink.innerHTML = docLinkHtml;\n",
              "          element.appendChild(docLink);\n",
              "        }\n",
              "      </script>\n",
              "    </div>\n",
              "  </div>\n",
              "  "
            ]
          },
          "metadata": {},
          "execution_count": 5
        }
      ]
    },
    {
      "cell_type": "code",
      "source": [
        "# Dataframe Tabel products\n",
        "products = pd.read_csv('/content/drive/MyDrive/KAMPUS MERDEKA BATCH 2/Project Ruang Guru Kel 255/Dataset Final Project DBA/products.csv')\n",
        "products.head()"
      ],
      "metadata": {
        "colab": {
          "base_uri": "https://localhost:8080/",
          "height": 496
        },
        "id": "nM-4WCIoylcm",
        "outputId": "c909c002-d159-4e06-e8ec-ce68e6d176c6"
      },
      "execution_count": 64,
      "outputs": [
        {
          "output_type": "execute_result",
          "data": {
            "text/plain": [
              "      id       cost category  \\\n",
              "0  27569  92.652563     Swim   \n",
              "1  27445  24.719661     Swim   \n",
              "2  27457  15.897600     Swim   \n",
              "3  27466  17.850000     Swim   \n",
              "4  27481  29.408001     Swim   \n",
              "\n",
              "                                                name brand  retail_price  \\\n",
              "0     2XU Men's Swimmers Compression Long Sleeve Top   2XU    150.410004   \n",
              "1         TYR Sport Men's Square Leg Short Swim Suit   TYR     38.990002   \n",
              "2    TYR Sport Men's Solid Durafast Jammer Swim Suit   TYR     27.600000   \n",
              "3  TYR Sport Men's Swim Short/Resistance Short Sw...   TYR     30.000000   \n",
              "4                    TYR Alliance Team Splice Jammer   TYR     45.950001   \n",
              "\n",
              "  department                               sku  distribution_center_id  \n",
              "0        Men  B23C5765E165D83AA924FA8F13C05F25                       1  \n",
              "1        Men  2AB7D3B23574C3DEA2BD278AFD0939AB                       1  \n",
              "2        Men  8F831227B0EB6C6D09A0555531365933                       1  \n",
              "3        Men  67317D6DCC4CB778AEB9219565F5456B                       1  \n",
              "4        Men  213C888198806EF1A0E2BBF2F4855C6C                       1  "
            ],
            "text/html": [
              "\n",
              "  <div id=\"df-36d58ae0-b109-4fa0-b49f-2123c6091fa4\">\n",
              "    <div class=\"colab-df-container\">\n",
              "      <div>\n",
              "<style scoped>\n",
              "    .dataframe tbody tr th:only-of-type {\n",
              "        vertical-align: middle;\n",
              "    }\n",
              "\n",
              "    .dataframe tbody tr th {\n",
              "        vertical-align: top;\n",
              "    }\n",
              "\n",
              "    .dataframe thead th {\n",
              "        text-align: right;\n",
              "    }\n",
              "</style>\n",
              "<table border=\"1\" class=\"dataframe\">\n",
              "  <thead>\n",
              "    <tr style=\"text-align: right;\">\n",
              "      <th></th>\n",
              "      <th>id</th>\n",
              "      <th>cost</th>\n",
              "      <th>category</th>\n",
              "      <th>name</th>\n",
              "      <th>brand</th>\n",
              "      <th>retail_price</th>\n",
              "      <th>department</th>\n",
              "      <th>sku</th>\n",
              "      <th>distribution_center_id</th>\n",
              "    </tr>\n",
              "  </thead>\n",
              "  <tbody>\n",
              "    <tr>\n",
              "      <th>0</th>\n",
              "      <td>27569</td>\n",
              "      <td>92.652563</td>\n",
              "      <td>Swim</td>\n",
              "      <td>2XU Men's Swimmers Compression Long Sleeve Top</td>\n",
              "      <td>2XU</td>\n",
              "      <td>150.410004</td>\n",
              "      <td>Men</td>\n",
              "      <td>B23C5765E165D83AA924FA8F13C05F25</td>\n",
              "      <td>1</td>\n",
              "    </tr>\n",
              "    <tr>\n",
              "      <th>1</th>\n",
              "      <td>27445</td>\n",
              "      <td>24.719661</td>\n",
              "      <td>Swim</td>\n",
              "      <td>TYR Sport Men's Square Leg Short Swim Suit</td>\n",
              "      <td>TYR</td>\n",
              "      <td>38.990002</td>\n",
              "      <td>Men</td>\n",
              "      <td>2AB7D3B23574C3DEA2BD278AFD0939AB</td>\n",
              "      <td>1</td>\n",
              "    </tr>\n",
              "    <tr>\n",
              "      <th>2</th>\n",
              "      <td>27457</td>\n",
              "      <td>15.897600</td>\n",
              "      <td>Swim</td>\n",
              "      <td>TYR Sport Men's Solid Durafast Jammer Swim Suit</td>\n",
              "      <td>TYR</td>\n",
              "      <td>27.600000</td>\n",
              "      <td>Men</td>\n",
              "      <td>8F831227B0EB6C6D09A0555531365933</td>\n",
              "      <td>1</td>\n",
              "    </tr>\n",
              "    <tr>\n",
              "      <th>3</th>\n",
              "      <td>27466</td>\n",
              "      <td>17.850000</td>\n",
              "      <td>Swim</td>\n",
              "      <td>TYR Sport Men's Swim Short/Resistance Short Sw...</td>\n",
              "      <td>TYR</td>\n",
              "      <td>30.000000</td>\n",
              "      <td>Men</td>\n",
              "      <td>67317D6DCC4CB778AEB9219565F5456B</td>\n",
              "      <td>1</td>\n",
              "    </tr>\n",
              "    <tr>\n",
              "      <th>4</th>\n",
              "      <td>27481</td>\n",
              "      <td>29.408001</td>\n",
              "      <td>Swim</td>\n",
              "      <td>TYR Alliance Team Splice Jammer</td>\n",
              "      <td>TYR</td>\n",
              "      <td>45.950001</td>\n",
              "      <td>Men</td>\n",
              "      <td>213C888198806EF1A0E2BBF2F4855C6C</td>\n",
              "      <td>1</td>\n",
              "    </tr>\n",
              "  </tbody>\n",
              "</table>\n",
              "</div>\n",
              "      <button class=\"colab-df-convert\" onclick=\"convertToInteractive('df-36d58ae0-b109-4fa0-b49f-2123c6091fa4')\"\n",
              "              title=\"Convert this dataframe to an interactive table.\"\n",
              "              style=\"display:none;\">\n",
              "        \n",
              "  <svg xmlns=\"http://www.w3.org/2000/svg\" height=\"24px\"viewBox=\"0 0 24 24\"\n",
              "       width=\"24px\">\n",
              "    <path d=\"M0 0h24v24H0V0z\" fill=\"none\"/>\n",
              "    <path d=\"M18.56 5.44l.94 2.06.94-2.06 2.06-.94-2.06-.94-.94-2.06-.94 2.06-2.06.94zm-11 1L8.5 8.5l.94-2.06 2.06-.94-2.06-.94L8.5 2.5l-.94 2.06-2.06.94zm10 10l.94 2.06.94-2.06 2.06-.94-2.06-.94-.94-2.06-.94 2.06-2.06.94z\"/><path d=\"M17.41 7.96l-1.37-1.37c-.4-.4-.92-.59-1.43-.59-.52 0-1.04.2-1.43.59L10.3 9.45l-7.72 7.72c-.78.78-.78 2.05 0 2.83L4 21.41c.39.39.9.59 1.41.59.51 0 1.02-.2 1.41-.59l7.78-7.78 2.81-2.81c.8-.78.8-2.07 0-2.86zM5.41 20L4 18.59l7.72-7.72 1.47 1.35L5.41 20z\"/>\n",
              "  </svg>\n",
              "      </button>\n",
              "      \n",
              "  <style>\n",
              "    .colab-df-container {\n",
              "      display:flex;\n",
              "      flex-wrap:wrap;\n",
              "      gap: 12px;\n",
              "    }\n",
              "\n",
              "    .colab-df-convert {\n",
              "      background-color: #E8F0FE;\n",
              "      border: none;\n",
              "      border-radius: 50%;\n",
              "      cursor: pointer;\n",
              "      display: none;\n",
              "      fill: #1967D2;\n",
              "      height: 32px;\n",
              "      padding: 0 0 0 0;\n",
              "      width: 32px;\n",
              "    }\n",
              "\n",
              "    .colab-df-convert:hover {\n",
              "      background-color: #E2EBFA;\n",
              "      box-shadow: 0px 1px 2px rgba(60, 64, 67, 0.3), 0px 1px 3px 1px rgba(60, 64, 67, 0.15);\n",
              "      fill: #174EA6;\n",
              "    }\n",
              "\n",
              "    [theme=dark] .colab-df-convert {\n",
              "      background-color: #3B4455;\n",
              "      fill: #D2E3FC;\n",
              "    }\n",
              "\n",
              "    [theme=dark] .colab-df-convert:hover {\n",
              "      background-color: #434B5C;\n",
              "      box-shadow: 0px 1px 3px 1px rgba(0, 0, 0, 0.15);\n",
              "      filter: drop-shadow(0px 1px 2px rgba(0, 0, 0, 0.3));\n",
              "      fill: #FFFFFF;\n",
              "    }\n",
              "  </style>\n",
              "\n",
              "      <script>\n",
              "        const buttonEl =\n",
              "          document.querySelector('#df-36d58ae0-b109-4fa0-b49f-2123c6091fa4 button.colab-df-convert');\n",
              "        buttonEl.style.display =\n",
              "          google.colab.kernel.accessAllowed ? 'block' : 'none';\n",
              "\n",
              "        async function convertToInteractive(key) {\n",
              "          const element = document.querySelector('#df-36d58ae0-b109-4fa0-b49f-2123c6091fa4');\n",
              "          const dataTable =\n",
              "            await google.colab.kernel.invokeFunction('convertToInteractive',\n",
              "                                                     [key], {});\n",
              "          if (!dataTable) return;\n",
              "\n",
              "          const docLinkHtml = 'Like what you see? Visit the ' +\n",
              "            '<a target=\"_blank\" href=https://colab.research.google.com/notebooks/data_table.ipynb>data table notebook</a>'\n",
              "            + ' to learn more about interactive tables.';\n",
              "          element.innerHTML = '';\n",
              "          dataTable['output_type'] = 'display_data';\n",
              "          await google.colab.output.renderOutput(dataTable, element);\n",
              "          const docLink = document.createElement('div');\n",
              "          docLink.innerHTML = docLinkHtml;\n",
              "          element.appendChild(docLink);\n",
              "        }\n",
              "      </script>\n",
              "    </div>\n",
              "  </div>\n",
              "  "
            ]
          },
          "metadata": {},
          "execution_count": 64
        }
      ]
    },
    {
      "cell_type": "code",
      "source": [
        "# Melihat jumlah baris dan kolom\n",
        "products.shape"
      ],
      "metadata": {
        "colab": {
          "base_uri": "https://localhost:8080/"
        },
        "id": "0zydH4RRR5Xo",
        "outputId": "f70d92f2-fe94-403f-a73c-3a39735d01d1"
      },
      "execution_count": 63,
      "outputs": [
        {
          "output_type": "execute_result",
          "data": {
            "text/plain": [
              "(29120, 9)"
            ]
          },
          "metadata": {},
          "execution_count": 63
        }
      ]
    },
    {
      "cell_type": "code",
      "source": [
        "# Rename column \n",
        "df1 = products.groupby(['id']).count().reset_index()\n",
        "df2 = df1.rename(columns={\"id\":\"product_id\"})\n",
        "df2.head()"
      ],
      "metadata": {
        "colab": {
          "base_uri": "https://localhost:8080/",
          "height": 206
        },
        "id": "xWcoSzMRFzDK",
        "outputId": "120d583f-81f7-4256-8f6a-179f3b5e1f2c"
      },
      "execution_count": 8,
      "outputs": [
        {
          "output_type": "execute_result",
          "data": {
            "text/plain": [
              "   product_id  cost  category  name  brand  retail_price  department  sku  \\\n",
              "0           1     1         1     1      1             1           1    1   \n",
              "1           2     1         1     1      1             1           1    1   \n",
              "2           3     1         1     1      1             1           1    1   \n",
              "3           4     1         1     1      1             1           1    1   \n",
              "4           5     1         1     1      1             1           1    1   \n",
              "\n",
              "   distribution_center_id  \n",
              "0                       1  \n",
              "1                       1  \n",
              "2                       1  \n",
              "3                       1  \n",
              "4                       1  "
            ],
            "text/html": [
              "\n",
              "  <div id=\"df-c609a57f-54f7-4f38-817c-792498dec242\">\n",
              "    <div class=\"colab-df-container\">\n",
              "      <div>\n",
              "<style scoped>\n",
              "    .dataframe tbody tr th:only-of-type {\n",
              "        vertical-align: middle;\n",
              "    }\n",
              "\n",
              "    .dataframe tbody tr th {\n",
              "        vertical-align: top;\n",
              "    }\n",
              "\n",
              "    .dataframe thead th {\n",
              "        text-align: right;\n",
              "    }\n",
              "</style>\n",
              "<table border=\"1\" class=\"dataframe\">\n",
              "  <thead>\n",
              "    <tr style=\"text-align: right;\">\n",
              "      <th></th>\n",
              "      <th>product_id</th>\n",
              "      <th>cost</th>\n",
              "      <th>category</th>\n",
              "      <th>name</th>\n",
              "      <th>brand</th>\n",
              "      <th>retail_price</th>\n",
              "      <th>department</th>\n",
              "      <th>sku</th>\n",
              "      <th>distribution_center_id</th>\n",
              "    </tr>\n",
              "  </thead>\n",
              "  <tbody>\n",
              "    <tr>\n",
              "      <th>0</th>\n",
              "      <td>1</td>\n",
              "      <td>1</td>\n",
              "      <td>1</td>\n",
              "      <td>1</td>\n",
              "      <td>1</td>\n",
              "      <td>1</td>\n",
              "      <td>1</td>\n",
              "      <td>1</td>\n",
              "      <td>1</td>\n",
              "    </tr>\n",
              "    <tr>\n",
              "      <th>1</th>\n",
              "      <td>2</td>\n",
              "      <td>1</td>\n",
              "      <td>1</td>\n",
              "      <td>1</td>\n",
              "      <td>1</td>\n",
              "      <td>1</td>\n",
              "      <td>1</td>\n",
              "      <td>1</td>\n",
              "      <td>1</td>\n",
              "    </tr>\n",
              "    <tr>\n",
              "      <th>2</th>\n",
              "      <td>3</td>\n",
              "      <td>1</td>\n",
              "      <td>1</td>\n",
              "      <td>1</td>\n",
              "      <td>1</td>\n",
              "      <td>1</td>\n",
              "      <td>1</td>\n",
              "      <td>1</td>\n",
              "      <td>1</td>\n",
              "    </tr>\n",
              "    <tr>\n",
              "      <th>3</th>\n",
              "      <td>4</td>\n",
              "      <td>1</td>\n",
              "      <td>1</td>\n",
              "      <td>1</td>\n",
              "      <td>1</td>\n",
              "      <td>1</td>\n",
              "      <td>1</td>\n",
              "      <td>1</td>\n",
              "      <td>1</td>\n",
              "    </tr>\n",
              "    <tr>\n",
              "      <th>4</th>\n",
              "      <td>5</td>\n",
              "      <td>1</td>\n",
              "      <td>1</td>\n",
              "      <td>1</td>\n",
              "      <td>1</td>\n",
              "      <td>1</td>\n",
              "      <td>1</td>\n",
              "      <td>1</td>\n",
              "      <td>1</td>\n",
              "    </tr>\n",
              "  </tbody>\n",
              "</table>\n",
              "</div>\n",
              "      <button class=\"colab-df-convert\" onclick=\"convertToInteractive('df-c609a57f-54f7-4f38-817c-792498dec242')\"\n",
              "              title=\"Convert this dataframe to an interactive table.\"\n",
              "              style=\"display:none;\">\n",
              "        \n",
              "  <svg xmlns=\"http://www.w3.org/2000/svg\" height=\"24px\"viewBox=\"0 0 24 24\"\n",
              "       width=\"24px\">\n",
              "    <path d=\"M0 0h24v24H0V0z\" fill=\"none\"/>\n",
              "    <path d=\"M18.56 5.44l.94 2.06.94-2.06 2.06-.94-2.06-.94-.94-2.06-.94 2.06-2.06.94zm-11 1L8.5 8.5l.94-2.06 2.06-.94-2.06-.94L8.5 2.5l-.94 2.06-2.06.94zm10 10l.94 2.06.94-2.06 2.06-.94-2.06-.94-.94-2.06-.94 2.06-2.06.94z\"/><path d=\"M17.41 7.96l-1.37-1.37c-.4-.4-.92-.59-1.43-.59-.52 0-1.04.2-1.43.59L10.3 9.45l-7.72 7.72c-.78.78-.78 2.05 0 2.83L4 21.41c.39.39.9.59 1.41.59.51 0 1.02-.2 1.41-.59l7.78-7.78 2.81-2.81c.8-.78.8-2.07 0-2.86zM5.41 20L4 18.59l7.72-7.72 1.47 1.35L5.41 20z\"/>\n",
              "  </svg>\n",
              "      </button>\n",
              "      \n",
              "  <style>\n",
              "    .colab-df-container {\n",
              "      display:flex;\n",
              "      flex-wrap:wrap;\n",
              "      gap: 12px;\n",
              "    }\n",
              "\n",
              "    .colab-df-convert {\n",
              "      background-color: #E8F0FE;\n",
              "      border: none;\n",
              "      border-radius: 50%;\n",
              "      cursor: pointer;\n",
              "      display: none;\n",
              "      fill: #1967D2;\n",
              "      height: 32px;\n",
              "      padding: 0 0 0 0;\n",
              "      width: 32px;\n",
              "    }\n",
              "\n",
              "    .colab-df-convert:hover {\n",
              "      background-color: #E2EBFA;\n",
              "      box-shadow: 0px 1px 2px rgba(60, 64, 67, 0.3), 0px 1px 3px 1px rgba(60, 64, 67, 0.15);\n",
              "      fill: #174EA6;\n",
              "    }\n",
              "\n",
              "    [theme=dark] .colab-df-convert {\n",
              "      background-color: #3B4455;\n",
              "      fill: #D2E3FC;\n",
              "    }\n",
              "\n",
              "    [theme=dark] .colab-df-convert:hover {\n",
              "      background-color: #434B5C;\n",
              "      box-shadow: 0px 1px 3px 1px rgba(0, 0, 0, 0.15);\n",
              "      filter: drop-shadow(0px 1px 2px rgba(0, 0, 0, 0.3));\n",
              "      fill: #FFFFFF;\n",
              "    }\n",
              "  </style>\n",
              "\n",
              "      <script>\n",
              "        const buttonEl =\n",
              "          document.querySelector('#df-c609a57f-54f7-4f38-817c-792498dec242 button.colab-df-convert');\n",
              "        buttonEl.style.display =\n",
              "          google.colab.kernel.accessAllowed ? 'block' : 'none';\n",
              "\n",
              "        async function convertToInteractive(key) {\n",
              "          const element = document.querySelector('#df-c609a57f-54f7-4f38-817c-792498dec242');\n",
              "          const dataTable =\n",
              "            await google.colab.kernel.invokeFunction('convertToInteractive',\n",
              "                                                     [key], {});\n",
              "          if (!dataTable) return;\n",
              "\n",
              "          const docLinkHtml = 'Like what you see? Visit the ' +\n",
              "            '<a target=\"_blank\" href=https://colab.research.google.com/notebooks/data_table.ipynb>data table notebook</a>'\n",
              "            + ' to learn more about interactive tables.';\n",
              "          element.innerHTML = '';\n",
              "          dataTable['output_type'] = 'display_data';\n",
              "          await google.colab.output.renderOutput(dataTable, element);\n",
              "          const docLink = document.createElement('div');\n",
              "          docLink.innerHTML = docLinkHtml;\n",
              "          element.appendChild(docLink);\n",
              "        }\n",
              "      </script>\n",
              "    </div>\n",
              "  </div>\n",
              "  "
            ]
          },
          "metadata": {},
          "execution_count": 8
        }
      ]
    },
    {
      "cell_type": "code",
      "source": [
        "df2.info()"
      ],
      "metadata": {
        "colab": {
          "base_uri": "https://localhost:8080/"
        },
        "id": "s4OUneloH0AN",
        "outputId": "45de6bc7-ff84-4db3-c744-b7e344107d7b"
      },
      "execution_count": 9,
      "outputs": [
        {
          "output_type": "stream",
          "name": "stdout",
          "text": [
            "<class 'pandas.core.frame.DataFrame'>\n",
            "RangeIndex: 29120 entries, 0 to 29119\n",
            "Data columns (total 9 columns):\n",
            " #   Column                  Non-Null Count  Dtype\n",
            "---  ------                  --------------  -----\n",
            " 0   product_id              29120 non-null  int64\n",
            " 1   cost                    29120 non-null  int64\n",
            " 2   category                29120 non-null  int64\n",
            " 3   name                    29120 non-null  int64\n",
            " 4   brand                   29120 non-null  int64\n",
            " 5   retail_price            29120 non-null  int64\n",
            " 6   department              29120 non-null  int64\n",
            " 7   sku                     29120 non-null  int64\n",
            " 8   distribution_center_id  29120 non-null  int64\n",
            "dtypes: int64(9)\n",
            "memory usage: 2.0 MB\n"
          ]
        }
      ]
    },
    {
      "cell_type": "markdown",
      "source": [
        "# JOIN DATA"
      ],
      "metadata": {
        "id": "dDTxgUZivvnK"
      }
    },
    {
      "cell_type": "code",
      "source": [
        "# Fungsi Inner Join\n",
        "inner_join = pd.merge(inv_items, df2, \n",
        "                      on = 'product_id',\n",
        "                      how = 'inner')\n",
        "inner_join.head()"
      ],
      "metadata": {
        "id": "yFRmoxXTyyBr",
        "colab": {
          "base_uri": "https://localhost:8080/",
          "height": 531
        },
        "outputId": "a8f7148b-084d-44a9-c91f-a7a8a0536529"
      },
      "execution_count": 65,
      "outputs": [
        {
          "output_type": "execute_result",
          "data": {
            "text/plain": [
              "      id  product_id                 created_at                    sold_at  \\\n",
              "0  90967       16898  2021-07-19 02:20:10+00:00  2021-07-20 14:34:10+00:00   \n",
              "1  90968       16898  2020-04-13 07:46:00+00:00                        NaN   \n",
              "2  90969       16898  2020-09-02 17:43:00+00:00                        NaN   \n",
              "3  90970       16898  2021-08-19 15:17:00+00:00                        NaN   \n",
              "4  96715       16898  2020-05-09 11:16:10+00:00  2020-06-23 23:59:10+00:00   \n",
              "\n",
              "   cost_x product_category                           product_name  \\\n",
              "0  13.925      Tops & Tees  Quiksilver Waterman Men's On The Rise   \n",
              "1  13.925      Tops & Tees  Quiksilver Waterman Men's On The Rise   \n",
              "2  13.925      Tops & Tees  Quiksilver Waterman Men's On The Rise   \n",
              "3  13.925      Tops & Tees  Quiksilver Waterman Men's On The Rise   \n",
              "4  13.925      Tops & Tees  Quiksilver Waterman Men's On The Rise   \n",
              "\n",
              "  product_brand  product_retail_price product_department  \\\n",
              "0           NaN                  25.0                Men   \n",
              "1           NaN                  25.0                Men   \n",
              "2           NaN                  25.0                Men   \n",
              "3           NaN                  25.0                Men   \n",
              "4           NaN                  25.0                Men   \n",
              "\n",
              "                        product_sku  product_distribution_center_id  cost_y  \\\n",
              "0  22811EE19846217512507785E74D12CC                               3       1   \n",
              "1  22811EE19846217512507785E74D12CC                               3       1   \n",
              "2  22811EE19846217512507785E74D12CC                               3       1   \n",
              "3  22811EE19846217512507785E74D12CC                               3       1   \n",
              "4  22811EE19846217512507785E74D12CC                               3       1   \n",
              "\n",
              "   category  name  brand  retail_price  department  sku  \\\n",
              "0         1     1      0             1           1    1   \n",
              "1         1     1      0             1           1    1   \n",
              "2         1     1      0             1           1    1   \n",
              "3         1     1      0             1           1    1   \n",
              "4         1     1      0             1           1    1   \n",
              "\n",
              "   distribution_center_id  \n",
              "0                       1  \n",
              "1                       1  \n",
              "2                       1  \n",
              "3                       1  \n",
              "4                       1  "
            ],
            "text/html": [
              "\n",
              "  <div id=\"df-b74fea21-c50b-4764-807d-5b12d456b7e1\">\n",
              "    <div class=\"colab-df-container\">\n",
              "      <div>\n",
              "<style scoped>\n",
              "    .dataframe tbody tr th:only-of-type {\n",
              "        vertical-align: middle;\n",
              "    }\n",
              "\n",
              "    .dataframe tbody tr th {\n",
              "        vertical-align: top;\n",
              "    }\n",
              "\n",
              "    .dataframe thead th {\n",
              "        text-align: right;\n",
              "    }\n",
              "</style>\n",
              "<table border=\"1\" class=\"dataframe\">\n",
              "  <thead>\n",
              "    <tr style=\"text-align: right;\">\n",
              "      <th></th>\n",
              "      <th>id</th>\n",
              "      <th>product_id</th>\n",
              "      <th>created_at</th>\n",
              "      <th>sold_at</th>\n",
              "      <th>cost_x</th>\n",
              "      <th>product_category</th>\n",
              "      <th>product_name</th>\n",
              "      <th>product_brand</th>\n",
              "      <th>product_retail_price</th>\n",
              "      <th>product_department</th>\n",
              "      <th>product_sku</th>\n",
              "      <th>product_distribution_center_id</th>\n",
              "      <th>cost_y</th>\n",
              "      <th>category</th>\n",
              "      <th>name</th>\n",
              "      <th>brand</th>\n",
              "      <th>retail_price</th>\n",
              "      <th>department</th>\n",
              "      <th>sku</th>\n",
              "      <th>distribution_center_id</th>\n",
              "    </tr>\n",
              "  </thead>\n",
              "  <tbody>\n",
              "    <tr>\n",
              "      <th>0</th>\n",
              "      <td>90967</td>\n",
              "      <td>16898</td>\n",
              "      <td>2021-07-19 02:20:10+00:00</td>\n",
              "      <td>2021-07-20 14:34:10+00:00</td>\n",
              "      <td>13.925</td>\n",
              "      <td>Tops &amp; Tees</td>\n",
              "      <td>Quiksilver Waterman Men's On The Rise</td>\n",
              "      <td>NaN</td>\n",
              "      <td>25.0</td>\n",
              "      <td>Men</td>\n",
              "      <td>22811EE19846217512507785E74D12CC</td>\n",
              "      <td>3</td>\n",
              "      <td>1</td>\n",
              "      <td>1</td>\n",
              "      <td>1</td>\n",
              "      <td>0</td>\n",
              "      <td>1</td>\n",
              "      <td>1</td>\n",
              "      <td>1</td>\n",
              "      <td>1</td>\n",
              "    </tr>\n",
              "    <tr>\n",
              "      <th>1</th>\n",
              "      <td>90968</td>\n",
              "      <td>16898</td>\n",
              "      <td>2020-04-13 07:46:00+00:00</td>\n",
              "      <td>NaN</td>\n",
              "      <td>13.925</td>\n",
              "      <td>Tops &amp; Tees</td>\n",
              "      <td>Quiksilver Waterman Men's On The Rise</td>\n",
              "      <td>NaN</td>\n",
              "      <td>25.0</td>\n",
              "      <td>Men</td>\n",
              "      <td>22811EE19846217512507785E74D12CC</td>\n",
              "      <td>3</td>\n",
              "      <td>1</td>\n",
              "      <td>1</td>\n",
              "      <td>1</td>\n",
              "      <td>0</td>\n",
              "      <td>1</td>\n",
              "      <td>1</td>\n",
              "      <td>1</td>\n",
              "      <td>1</td>\n",
              "    </tr>\n",
              "    <tr>\n",
              "      <th>2</th>\n",
              "      <td>90969</td>\n",
              "      <td>16898</td>\n",
              "      <td>2020-09-02 17:43:00+00:00</td>\n",
              "      <td>NaN</td>\n",
              "      <td>13.925</td>\n",
              "      <td>Tops &amp; Tees</td>\n",
              "      <td>Quiksilver Waterman Men's On The Rise</td>\n",
              "      <td>NaN</td>\n",
              "      <td>25.0</td>\n",
              "      <td>Men</td>\n",
              "      <td>22811EE19846217512507785E74D12CC</td>\n",
              "      <td>3</td>\n",
              "      <td>1</td>\n",
              "      <td>1</td>\n",
              "      <td>1</td>\n",
              "      <td>0</td>\n",
              "      <td>1</td>\n",
              "      <td>1</td>\n",
              "      <td>1</td>\n",
              "      <td>1</td>\n",
              "    </tr>\n",
              "    <tr>\n",
              "      <th>3</th>\n",
              "      <td>90970</td>\n",
              "      <td>16898</td>\n",
              "      <td>2021-08-19 15:17:00+00:00</td>\n",
              "      <td>NaN</td>\n",
              "      <td>13.925</td>\n",
              "      <td>Tops &amp; Tees</td>\n",
              "      <td>Quiksilver Waterman Men's On The Rise</td>\n",
              "      <td>NaN</td>\n",
              "      <td>25.0</td>\n",
              "      <td>Men</td>\n",
              "      <td>22811EE19846217512507785E74D12CC</td>\n",
              "      <td>3</td>\n",
              "      <td>1</td>\n",
              "      <td>1</td>\n",
              "      <td>1</td>\n",
              "      <td>0</td>\n",
              "      <td>1</td>\n",
              "      <td>1</td>\n",
              "      <td>1</td>\n",
              "      <td>1</td>\n",
              "    </tr>\n",
              "    <tr>\n",
              "      <th>4</th>\n",
              "      <td>96715</td>\n",
              "      <td>16898</td>\n",
              "      <td>2020-05-09 11:16:10+00:00</td>\n",
              "      <td>2020-06-23 23:59:10+00:00</td>\n",
              "      <td>13.925</td>\n",
              "      <td>Tops &amp; Tees</td>\n",
              "      <td>Quiksilver Waterman Men's On The Rise</td>\n",
              "      <td>NaN</td>\n",
              "      <td>25.0</td>\n",
              "      <td>Men</td>\n",
              "      <td>22811EE19846217512507785E74D12CC</td>\n",
              "      <td>3</td>\n",
              "      <td>1</td>\n",
              "      <td>1</td>\n",
              "      <td>1</td>\n",
              "      <td>0</td>\n",
              "      <td>1</td>\n",
              "      <td>1</td>\n",
              "      <td>1</td>\n",
              "      <td>1</td>\n",
              "    </tr>\n",
              "  </tbody>\n",
              "</table>\n",
              "</div>\n",
              "      <button class=\"colab-df-convert\" onclick=\"convertToInteractive('df-b74fea21-c50b-4764-807d-5b12d456b7e1')\"\n",
              "              title=\"Convert this dataframe to an interactive table.\"\n",
              "              style=\"display:none;\">\n",
              "        \n",
              "  <svg xmlns=\"http://www.w3.org/2000/svg\" height=\"24px\"viewBox=\"0 0 24 24\"\n",
              "       width=\"24px\">\n",
              "    <path d=\"M0 0h24v24H0V0z\" fill=\"none\"/>\n",
              "    <path d=\"M18.56 5.44l.94 2.06.94-2.06 2.06-.94-2.06-.94-.94-2.06-.94 2.06-2.06.94zm-11 1L8.5 8.5l.94-2.06 2.06-.94-2.06-.94L8.5 2.5l-.94 2.06-2.06.94zm10 10l.94 2.06.94-2.06 2.06-.94-2.06-.94-.94-2.06-.94 2.06-2.06.94z\"/><path d=\"M17.41 7.96l-1.37-1.37c-.4-.4-.92-.59-1.43-.59-.52 0-1.04.2-1.43.59L10.3 9.45l-7.72 7.72c-.78.78-.78 2.05 0 2.83L4 21.41c.39.39.9.59 1.41.59.51 0 1.02-.2 1.41-.59l7.78-7.78 2.81-2.81c.8-.78.8-2.07 0-2.86zM5.41 20L4 18.59l7.72-7.72 1.47 1.35L5.41 20z\"/>\n",
              "  </svg>\n",
              "      </button>\n",
              "      \n",
              "  <style>\n",
              "    .colab-df-container {\n",
              "      display:flex;\n",
              "      flex-wrap:wrap;\n",
              "      gap: 12px;\n",
              "    }\n",
              "\n",
              "    .colab-df-convert {\n",
              "      background-color: #E8F0FE;\n",
              "      border: none;\n",
              "      border-radius: 50%;\n",
              "      cursor: pointer;\n",
              "      display: none;\n",
              "      fill: #1967D2;\n",
              "      height: 32px;\n",
              "      padding: 0 0 0 0;\n",
              "      width: 32px;\n",
              "    }\n",
              "\n",
              "    .colab-df-convert:hover {\n",
              "      background-color: #E2EBFA;\n",
              "      box-shadow: 0px 1px 2px rgba(60, 64, 67, 0.3), 0px 1px 3px 1px rgba(60, 64, 67, 0.15);\n",
              "      fill: #174EA6;\n",
              "    }\n",
              "\n",
              "    [theme=dark] .colab-df-convert {\n",
              "      background-color: #3B4455;\n",
              "      fill: #D2E3FC;\n",
              "    }\n",
              "\n",
              "    [theme=dark] .colab-df-convert:hover {\n",
              "      background-color: #434B5C;\n",
              "      box-shadow: 0px 1px 3px 1px rgba(0, 0, 0, 0.15);\n",
              "      filter: drop-shadow(0px 1px 2px rgba(0, 0, 0, 0.3));\n",
              "      fill: #FFFFFF;\n",
              "    }\n",
              "  </style>\n",
              "\n",
              "      <script>\n",
              "        const buttonEl =\n",
              "          document.querySelector('#df-b74fea21-c50b-4764-807d-5b12d456b7e1 button.colab-df-convert');\n",
              "        buttonEl.style.display =\n",
              "          google.colab.kernel.accessAllowed ? 'block' : 'none';\n",
              "\n",
              "        async function convertToInteractive(key) {\n",
              "          const element = document.querySelector('#df-b74fea21-c50b-4764-807d-5b12d456b7e1');\n",
              "          const dataTable =\n",
              "            await google.colab.kernel.invokeFunction('convertToInteractive',\n",
              "                                                     [key], {});\n",
              "          if (!dataTable) return;\n",
              "\n",
              "          const docLinkHtml = 'Like what you see? Visit the ' +\n",
              "            '<a target=\"_blank\" href=https://colab.research.google.com/notebooks/data_table.ipynb>data table notebook</a>'\n",
              "            + ' to learn more about interactive tables.';\n",
              "          element.innerHTML = '';\n",
              "          dataTable['output_type'] = 'display_data';\n",
              "          await google.colab.output.renderOutput(dataTable, element);\n",
              "          const docLink = document.createElement('div');\n",
              "          docLink.innerHTML = docLinkHtml;\n",
              "          element.appendChild(docLink);\n",
              "        }\n",
              "      </script>\n",
              "    </div>\n",
              "  </div>\n",
              "  "
            ]
          },
          "metadata": {},
          "execution_count": 65
        }
      ]
    },
    {
      "cell_type": "markdown",
      "source": [
        "# DATA EXPLORATION"
      ],
      "metadata": {
        "id": "K3zy4TNAJsVM"
      }
    },
    {
      "cell_type": "code",
      "source": [
        "# Detail info tiap variabel\n",
        "inner_join.info()"
      ],
      "metadata": {
        "colab": {
          "base_uri": "https://localhost:8080/"
        },
        "id": "GvbnmnHyCwPE",
        "outputId": "3d55ef94-66cd-4d7d-8c2a-db2176cb2649"
      },
      "execution_count": 66,
      "outputs": [
        {
          "output_type": "stream",
          "name": "stdout",
          "text": [
            "<class 'pandas.core.frame.DataFrame'>\n",
            "Int64Index: 487394 entries, 0 to 487393\n",
            "Data columns (total 20 columns):\n",
            " #   Column                          Non-Null Count   Dtype  \n",
            "---  ------                          --------------   -----  \n",
            " 0   id                              487394 non-null  int64  \n",
            " 1   product_id                      487394 non-null  int64  \n",
            " 2   created_at                      487394 non-null  object \n",
            " 3   sold_at                         180508 non-null  object \n",
            " 4   cost_x                          487394 non-null  float64\n",
            " 5   product_category                487394 non-null  object \n",
            " 6   product_name                    487359 non-null  object \n",
            " 7   product_brand                   487020 non-null  object \n",
            " 8   product_retail_price            487394 non-null  float64\n",
            " 9   product_department              487394 non-null  object \n",
            " 10  product_sku                     487394 non-null  object \n",
            " 11  product_distribution_center_id  487394 non-null  int64  \n",
            " 12  cost_y                          487394 non-null  int64  \n",
            " 13  category                        487394 non-null  int64  \n",
            " 14  name                            487394 non-null  int64  \n",
            " 15  brand                           487394 non-null  int64  \n",
            " 16  retail_price                    487394 non-null  int64  \n",
            " 17  department                      487394 non-null  int64  \n",
            " 18  sku                             487394 non-null  int64  \n",
            " 19  distribution_center_id          487394 non-null  int64  \n",
            "dtypes: float64(2), int64(11), object(7)\n",
            "memory usage: 78.1+ MB\n"
          ]
        }
      ]
    },
    {
      "cell_type": "code",
      "source": [
        "# Melihat jumlah baris dan kolom\n",
        "inner_join.shape"
      ],
      "metadata": {
        "colab": {
          "base_uri": "https://localhost:8080/"
        },
        "id": "WgclX6hnRsNo",
        "outputId": "63820f55-d9d7-41bb-d4fd-6c6cf9cb66c3"
      },
      "execution_count": 61,
      "outputs": [
        {
          "output_type": "execute_result",
          "data": {
            "text/plain": [
              "(487394, 20)"
            ]
          },
          "metadata": {},
          "execution_count": 61
        }
      ]
    },
    {
      "cell_type": "code",
      "source": [
        "inner_join.describe().transpose()"
      ],
      "metadata": {
        "colab": {
          "base_uri": "https://localhost:8080/",
          "height": 501
        },
        "id": "yuUKKPNPJzH-",
        "outputId": "6dabbcc5-9de0-4c47-c72a-844f7e355139"
      },
      "execution_count": 12,
      "outputs": [
        {
          "output_type": "execute_result",
          "data": {
            "text/plain": [
              "                                   count           mean            std  \\\n",
              "id                              487394.0  243697.500000  140698.672888   \n",
              "product_id                      487394.0   15292.257424    8408.118539   \n",
              "cost_x                          487394.0      28.746374      30.629290   \n",
              "product_retail_price            487394.0      59.772834      65.871768   \n",
              "product_distribution_center_id  487394.0       4.992101       2.895917   \n",
              "cost_y                          487394.0       1.000000       0.000000   \n",
              "category                        487394.0       1.000000       0.000000   \n",
              "name                            487394.0       0.999928       0.008474   \n",
              "brand                           487394.0       0.999233       0.027690   \n",
              "retail_price                    487394.0       1.000000       0.000000   \n",
              "department                      487394.0       1.000000       0.000000   \n",
              "sku                             487394.0       1.000000       0.000000   \n",
              "distribution_center_id          487394.0       1.000000       0.000000   \n",
              "\n",
              "                                   min            25%            50%  \\\n",
              "id                              1.0000  121849.250000  243697.500000   \n",
              "product_id                      1.0000    8047.000000   16032.000000   \n",
              "cost_x                          0.0083      11.394300      19.944301   \n",
              "product_retail_price            0.0200      24.780001      39.990002   \n",
              "product_distribution_center_id  1.0000       2.000000       5.000000   \n",
              "cost_y                          1.0000       1.000000       1.000000   \n",
              "category                        1.0000       1.000000       1.000000   \n",
              "name                            0.0000       1.000000       1.000000   \n",
              "brand                           0.0000       1.000000       1.000000   \n",
              "retail_price                    1.0000       1.000000       1.000000   \n",
              "department                      1.0000       1.000000       1.000000   \n",
              "sku                             1.0000       1.000000       1.000000   \n",
              "distribution_center_id          1.0000       1.000000       1.000000   \n",
              "\n",
              "                                          75%            max  \n",
              "id                              365545.750000  487394.000000  \n",
              "product_id                       22558.000000   29120.000000  \n",
              "cost_x                              34.698691     557.151002  \n",
              "product_retail_price                69.949997     999.000000  \n",
              "product_distribution_center_id       8.000000      10.000000  \n",
              "cost_y                               1.000000       1.000000  \n",
              "category                             1.000000       1.000000  \n",
              "name                                 1.000000       1.000000  \n",
              "brand                                1.000000       1.000000  \n",
              "retail_price                         1.000000       1.000000  \n",
              "department                           1.000000       1.000000  \n",
              "sku                                  1.000000       1.000000  \n",
              "distribution_center_id               1.000000       1.000000  "
            ],
            "text/html": [
              "\n",
              "  <div id=\"df-1ec97a92-df3b-4717-9a21-493bb0d6e599\">\n",
              "    <div class=\"colab-df-container\">\n",
              "      <div>\n",
              "<style scoped>\n",
              "    .dataframe tbody tr th:only-of-type {\n",
              "        vertical-align: middle;\n",
              "    }\n",
              "\n",
              "    .dataframe tbody tr th {\n",
              "        vertical-align: top;\n",
              "    }\n",
              "\n",
              "    .dataframe thead th {\n",
              "        text-align: right;\n",
              "    }\n",
              "</style>\n",
              "<table border=\"1\" class=\"dataframe\">\n",
              "  <thead>\n",
              "    <tr style=\"text-align: right;\">\n",
              "      <th></th>\n",
              "      <th>count</th>\n",
              "      <th>mean</th>\n",
              "      <th>std</th>\n",
              "      <th>min</th>\n",
              "      <th>25%</th>\n",
              "      <th>50%</th>\n",
              "      <th>75%</th>\n",
              "      <th>max</th>\n",
              "    </tr>\n",
              "  </thead>\n",
              "  <tbody>\n",
              "    <tr>\n",
              "      <th>id</th>\n",
              "      <td>487394.0</td>\n",
              "      <td>243697.500000</td>\n",
              "      <td>140698.672888</td>\n",
              "      <td>1.0000</td>\n",
              "      <td>121849.250000</td>\n",
              "      <td>243697.500000</td>\n",
              "      <td>365545.750000</td>\n",
              "      <td>487394.000000</td>\n",
              "    </tr>\n",
              "    <tr>\n",
              "      <th>product_id</th>\n",
              "      <td>487394.0</td>\n",
              "      <td>15292.257424</td>\n",
              "      <td>8408.118539</td>\n",
              "      <td>1.0000</td>\n",
              "      <td>8047.000000</td>\n",
              "      <td>16032.000000</td>\n",
              "      <td>22558.000000</td>\n",
              "      <td>29120.000000</td>\n",
              "    </tr>\n",
              "    <tr>\n",
              "      <th>cost_x</th>\n",
              "      <td>487394.0</td>\n",
              "      <td>28.746374</td>\n",
              "      <td>30.629290</td>\n",
              "      <td>0.0083</td>\n",
              "      <td>11.394300</td>\n",
              "      <td>19.944301</td>\n",
              "      <td>34.698691</td>\n",
              "      <td>557.151002</td>\n",
              "    </tr>\n",
              "    <tr>\n",
              "      <th>product_retail_price</th>\n",
              "      <td>487394.0</td>\n",
              "      <td>59.772834</td>\n",
              "      <td>65.871768</td>\n",
              "      <td>0.0200</td>\n",
              "      <td>24.780001</td>\n",
              "      <td>39.990002</td>\n",
              "      <td>69.949997</td>\n",
              "      <td>999.000000</td>\n",
              "    </tr>\n",
              "    <tr>\n",
              "      <th>product_distribution_center_id</th>\n",
              "      <td>487394.0</td>\n",
              "      <td>4.992101</td>\n",
              "      <td>2.895917</td>\n",
              "      <td>1.0000</td>\n",
              "      <td>2.000000</td>\n",
              "      <td>5.000000</td>\n",
              "      <td>8.000000</td>\n",
              "      <td>10.000000</td>\n",
              "    </tr>\n",
              "    <tr>\n",
              "      <th>cost_y</th>\n",
              "      <td>487394.0</td>\n",
              "      <td>1.000000</td>\n",
              "      <td>0.000000</td>\n",
              "      <td>1.0000</td>\n",
              "      <td>1.000000</td>\n",
              "      <td>1.000000</td>\n",
              "      <td>1.000000</td>\n",
              "      <td>1.000000</td>\n",
              "    </tr>\n",
              "    <tr>\n",
              "      <th>category</th>\n",
              "      <td>487394.0</td>\n",
              "      <td>1.000000</td>\n",
              "      <td>0.000000</td>\n",
              "      <td>1.0000</td>\n",
              "      <td>1.000000</td>\n",
              "      <td>1.000000</td>\n",
              "      <td>1.000000</td>\n",
              "      <td>1.000000</td>\n",
              "    </tr>\n",
              "    <tr>\n",
              "      <th>name</th>\n",
              "      <td>487394.0</td>\n",
              "      <td>0.999928</td>\n",
              "      <td>0.008474</td>\n",
              "      <td>0.0000</td>\n",
              "      <td>1.000000</td>\n",
              "      <td>1.000000</td>\n",
              "      <td>1.000000</td>\n",
              "      <td>1.000000</td>\n",
              "    </tr>\n",
              "    <tr>\n",
              "      <th>brand</th>\n",
              "      <td>487394.0</td>\n",
              "      <td>0.999233</td>\n",
              "      <td>0.027690</td>\n",
              "      <td>0.0000</td>\n",
              "      <td>1.000000</td>\n",
              "      <td>1.000000</td>\n",
              "      <td>1.000000</td>\n",
              "      <td>1.000000</td>\n",
              "    </tr>\n",
              "    <tr>\n",
              "      <th>retail_price</th>\n",
              "      <td>487394.0</td>\n",
              "      <td>1.000000</td>\n",
              "      <td>0.000000</td>\n",
              "      <td>1.0000</td>\n",
              "      <td>1.000000</td>\n",
              "      <td>1.000000</td>\n",
              "      <td>1.000000</td>\n",
              "      <td>1.000000</td>\n",
              "    </tr>\n",
              "    <tr>\n",
              "      <th>department</th>\n",
              "      <td>487394.0</td>\n",
              "      <td>1.000000</td>\n",
              "      <td>0.000000</td>\n",
              "      <td>1.0000</td>\n",
              "      <td>1.000000</td>\n",
              "      <td>1.000000</td>\n",
              "      <td>1.000000</td>\n",
              "      <td>1.000000</td>\n",
              "    </tr>\n",
              "    <tr>\n",
              "      <th>sku</th>\n",
              "      <td>487394.0</td>\n",
              "      <td>1.000000</td>\n",
              "      <td>0.000000</td>\n",
              "      <td>1.0000</td>\n",
              "      <td>1.000000</td>\n",
              "      <td>1.000000</td>\n",
              "      <td>1.000000</td>\n",
              "      <td>1.000000</td>\n",
              "    </tr>\n",
              "    <tr>\n",
              "      <th>distribution_center_id</th>\n",
              "      <td>487394.0</td>\n",
              "      <td>1.000000</td>\n",
              "      <td>0.000000</td>\n",
              "      <td>1.0000</td>\n",
              "      <td>1.000000</td>\n",
              "      <td>1.000000</td>\n",
              "      <td>1.000000</td>\n",
              "      <td>1.000000</td>\n",
              "    </tr>\n",
              "  </tbody>\n",
              "</table>\n",
              "</div>\n",
              "      <button class=\"colab-df-convert\" onclick=\"convertToInteractive('df-1ec97a92-df3b-4717-9a21-493bb0d6e599')\"\n",
              "              title=\"Convert this dataframe to an interactive table.\"\n",
              "              style=\"display:none;\">\n",
              "        \n",
              "  <svg xmlns=\"http://www.w3.org/2000/svg\" height=\"24px\"viewBox=\"0 0 24 24\"\n",
              "       width=\"24px\">\n",
              "    <path d=\"M0 0h24v24H0V0z\" fill=\"none\"/>\n",
              "    <path d=\"M18.56 5.44l.94 2.06.94-2.06 2.06-.94-2.06-.94-.94-2.06-.94 2.06-2.06.94zm-11 1L8.5 8.5l.94-2.06 2.06-.94-2.06-.94L8.5 2.5l-.94 2.06-2.06.94zm10 10l.94 2.06.94-2.06 2.06-.94-2.06-.94-.94-2.06-.94 2.06-2.06.94z\"/><path d=\"M17.41 7.96l-1.37-1.37c-.4-.4-.92-.59-1.43-.59-.52 0-1.04.2-1.43.59L10.3 9.45l-7.72 7.72c-.78.78-.78 2.05 0 2.83L4 21.41c.39.39.9.59 1.41.59.51 0 1.02-.2 1.41-.59l7.78-7.78 2.81-2.81c.8-.78.8-2.07 0-2.86zM5.41 20L4 18.59l7.72-7.72 1.47 1.35L5.41 20z\"/>\n",
              "  </svg>\n",
              "      </button>\n",
              "      \n",
              "  <style>\n",
              "    .colab-df-container {\n",
              "      display:flex;\n",
              "      flex-wrap:wrap;\n",
              "      gap: 12px;\n",
              "    }\n",
              "\n",
              "    .colab-df-convert {\n",
              "      background-color: #E8F0FE;\n",
              "      border: none;\n",
              "      border-radius: 50%;\n",
              "      cursor: pointer;\n",
              "      display: none;\n",
              "      fill: #1967D2;\n",
              "      height: 32px;\n",
              "      padding: 0 0 0 0;\n",
              "      width: 32px;\n",
              "    }\n",
              "\n",
              "    .colab-df-convert:hover {\n",
              "      background-color: #E2EBFA;\n",
              "      box-shadow: 0px 1px 2px rgba(60, 64, 67, 0.3), 0px 1px 3px 1px rgba(60, 64, 67, 0.15);\n",
              "      fill: #174EA6;\n",
              "    }\n",
              "\n",
              "    [theme=dark] .colab-df-convert {\n",
              "      background-color: #3B4455;\n",
              "      fill: #D2E3FC;\n",
              "    }\n",
              "\n",
              "    [theme=dark] .colab-df-convert:hover {\n",
              "      background-color: #434B5C;\n",
              "      box-shadow: 0px 1px 3px 1px rgba(0, 0, 0, 0.15);\n",
              "      filter: drop-shadow(0px 1px 2px rgba(0, 0, 0, 0.3));\n",
              "      fill: #FFFFFF;\n",
              "    }\n",
              "  </style>\n",
              "\n",
              "      <script>\n",
              "        const buttonEl =\n",
              "          document.querySelector('#df-1ec97a92-df3b-4717-9a21-493bb0d6e599 button.colab-df-convert');\n",
              "        buttonEl.style.display =\n",
              "          google.colab.kernel.accessAllowed ? 'block' : 'none';\n",
              "\n",
              "        async function convertToInteractive(key) {\n",
              "          const element = document.querySelector('#df-1ec97a92-df3b-4717-9a21-493bb0d6e599');\n",
              "          const dataTable =\n",
              "            await google.colab.kernel.invokeFunction('convertToInteractive',\n",
              "                                                     [key], {});\n",
              "          if (!dataTable) return;\n",
              "\n",
              "          const docLinkHtml = 'Like what you see? Visit the ' +\n",
              "            '<a target=\"_blank\" href=https://colab.research.google.com/notebooks/data_table.ipynb>data table notebook</a>'\n",
              "            + ' to learn more about interactive tables.';\n",
              "          element.innerHTML = '';\n",
              "          dataTable['output_type'] = 'display_data';\n",
              "          await google.colab.output.renderOutput(dataTable, element);\n",
              "          const docLink = document.createElement('div');\n",
              "          docLink.innerHTML = docLinkHtml;\n",
              "          element.appendChild(docLink);\n",
              "        }\n",
              "      </script>\n",
              "    </div>\n",
              "  </div>\n",
              "  "
            ]
          },
          "metadata": {},
          "execution_count": 12
        }
      ]
    },
    {
      "cell_type": "code",
      "source": [
        "# Summary statistics pada variabel\n",
        "print (inner_join.describe().T)\n",
        "print ('\\n\\t==================================================\\n')\n",
        "\n",
        "# Pembulatan decimal 2 angka di belakang koma\n",
        "print(inner_join.describe().T.round(2))"
      ],
      "metadata": {
        "colab": {
          "base_uri": "https://localhost:8080/"
        },
        "id": "30hB5QZsOGp4",
        "outputId": "f227a29f-c62b-4aef-e252-013cc9f72ad7"
      },
      "execution_count": 22,
      "outputs": [
        {
          "output_type": "stream",
          "name": "stdout",
          "text": [
            "                                   count           mean            std  \\\n",
            "id                              487394.0  243697.500000  140698.672888   \n",
            "product_id                      487394.0   15292.257424    8408.118539   \n",
            "cost_x                          487394.0      28.746374      30.629290   \n",
            "product_retail_price            487394.0      59.772834      65.871768   \n",
            "product_distribution_center_id  487394.0       4.992101       2.895917   \n",
            "cost_y                          487394.0       1.000000       0.000000   \n",
            "category                        487394.0       1.000000       0.000000   \n",
            "name                            487394.0       0.999928       0.008474   \n",
            "brand                           487394.0       0.999233       0.027690   \n",
            "retail_price                    487394.0       1.000000       0.000000   \n",
            "department                      487394.0       1.000000       0.000000   \n",
            "sku                             487394.0       1.000000       0.000000   \n",
            "distribution_center_id          487394.0       1.000000       0.000000   \n",
            "\n",
            "                                   min            25%            50%  \\\n",
            "id                              1.0000  121849.250000  243697.500000   \n",
            "product_id                      1.0000    8047.000000   16032.000000   \n",
            "cost_x                          0.0083      11.394300      19.944301   \n",
            "product_retail_price            0.0200      24.780001      39.990002   \n",
            "product_distribution_center_id  1.0000       2.000000       5.000000   \n",
            "cost_y                          1.0000       1.000000       1.000000   \n",
            "category                        1.0000       1.000000       1.000000   \n",
            "name                            0.0000       1.000000       1.000000   \n",
            "brand                           0.0000       1.000000       1.000000   \n",
            "retail_price                    1.0000       1.000000       1.000000   \n",
            "department                      1.0000       1.000000       1.000000   \n",
            "sku                             1.0000       1.000000       1.000000   \n",
            "distribution_center_id          1.0000       1.000000       1.000000   \n",
            "\n",
            "                                          75%            max  \n",
            "id                              365545.750000  487394.000000  \n",
            "product_id                       22558.000000   29120.000000  \n",
            "cost_x                              34.698691     557.151002  \n",
            "product_retail_price                69.949997     999.000000  \n",
            "product_distribution_center_id       8.000000      10.000000  \n",
            "cost_y                               1.000000       1.000000  \n",
            "category                             1.000000       1.000000  \n",
            "name                                 1.000000       1.000000  \n",
            "brand                                1.000000       1.000000  \n",
            "retail_price                         1.000000       1.000000  \n",
            "department                           1.000000       1.000000  \n",
            "sku                                  1.000000       1.000000  \n",
            "distribution_center_id               1.000000       1.000000  \n",
            "\n",
            "\t==================================================\n",
            "\n",
            "                                   count       mean        std   min  \\\n",
            "id                              487394.0  243697.50  140698.67  1.00   \n",
            "product_id                      487394.0   15292.26    8408.12  1.00   \n",
            "cost_x                          487394.0      28.75      30.63  0.01   \n",
            "product_retail_price            487394.0      59.77      65.87  0.02   \n",
            "product_distribution_center_id  487394.0       4.99       2.90  1.00   \n",
            "cost_y                          487394.0       1.00       0.00  1.00   \n",
            "category                        487394.0       1.00       0.00  1.00   \n",
            "name                            487394.0       1.00       0.01  0.00   \n",
            "brand                           487394.0       1.00       0.03  0.00   \n",
            "retail_price                    487394.0       1.00       0.00  1.00   \n",
            "department                      487394.0       1.00       0.00  1.00   \n",
            "sku                             487394.0       1.00       0.00  1.00   \n",
            "distribution_center_id          487394.0       1.00       0.00  1.00   \n",
            "\n",
            "                                      25%        50%        75%        max  \n",
            "id                              121849.25  243697.50  365545.75  487394.00  \n",
            "product_id                        8047.00   16032.00   22558.00   29120.00  \n",
            "cost_x                              11.39      19.94      34.70     557.15  \n",
            "product_retail_price                24.78      39.99      69.95     999.00  \n",
            "product_distribution_center_id       2.00       5.00       8.00      10.00  \n",
            "cost_y                               1.00       1.00       1.00       1.00  \n",
            "category                             1.00       1.00       1.00       1.00  \n",
            "name                                 1.00       1.00       1.00       1.00  \n",
            "brand                                1.00       1.00       1.00       1.00  \n",
            "retail_price                         1.00       1.00       1.00       1.00  \n",
            "department                           1.00       1.00       1.00       1.00  \n",
            "sku                                  1.00       1.00       1.00       1.00  \n",
            "distribution_center_id               1.00       1.00       1.00       1.00  \n"
          ]
        }
      ]
    },
    {
      "cell_type": "markdown",
      "source": [
        "> Dapat dilihat tipe data pada '*sold_at*' masih berupa *object*, sehingga perlu diubah menjadi tipe data *datetime* menggunakan function pandas yaitu *`to_datetime()`*"
      ],
      "metadata": {
        "id": "O3D7RwtTNqp5"
      }
    },
    {
      "cell_type": "code",
      "source": [
        "# Set kolom 'sold_at' sebagai index\n",
        "inner_join = inner_join.set_index(['sold_at'])\n",
        "inner_join.head()"
      ],
      "metadata": {
        "colab": {
          "base_uri": "https://localhost:8080/",
          "height": 562
        },
        "id": "91HoCAskNHA5",
        "outputId": "504ab8dc-356f-4a38-934e-30e55ff1a5df"
      },
      "execution_count": 16,
      "outputs": [
        {
          "output_type": "execute_result",
          "data": {
            "text/plain": [
              "                              id  product_id                 created_at  \\\n",
              "sold_at                                                                   \n",
              "2021-07-20 14:34:10+00:00  90967       16898  2021-07-19 02:20:10+00:00   \n",
              "NaT                        90968       16898  2020-04-13 07:46:00+00:00   \n",
              "NaT                        90969       16898  2020-09-02 17:43:00+00:00   \n",
              "NaT                        90970       16898  2021-08-19 15:17:00+00:00   \n",
              "2020-06-23 23:59:10+00:00  96715       16898  2020-05-09 11:16:10+00:00   \n",
              "\n",
              "                           cost_x product_category  \\\n",
              "sold_at                                              \n",
              "2021-07-20 14:34:10+00:00  13.925      Tops & Tees   \n",
              "NaT                        13.925      Tops & Tees   \n",
              "NaT                        13.925      Tops & Tees   \n",
              "NaT                        13.925      Tops & Tees   \n",
              "2020-06-23 23:59:10+00:00  13.925      Tops & Tees   \n",
              "\n",
              "                                                    product_name  \\\n",
              "sold_at                                                            \n",
              "2021-07-20 14:34:10+00:00  Quiksilver Waterman Men's On The Rise   \n",
              "NaT                        Quiksilver Waterman Men's On The Rise   \n",
              "NaT                        Quiksilver Waterman Men's On The Rise   \n",
              "NaT                        Quiksilver Waterman Men's On The Rise   \n",
              "2020-06-23 23:59:10+00:00  Quiksilver Waterman Men's On The Rise   \n",
              "\n",
              "                          product_brand  product_retail_price  \\\n",
              "sold_at                                                         \n",
              "2021-07-20 14:34:10+00:00           NaN                  25.0   \n",
              "NaT                                 NaN                  25.0   \n",
              "NaT                                 NaN                  25.0   \n",
              "NaT                                 NaN                  25.0   \n",
              "2020-06-23 23:59:10+00:00           NaN                  25.0   \n",
              "\n",
              "                          product_department  \\\n",
              "sold_at                                        \n",
              "2021-07-20 14:34:10+00:00                Men   \n",
              "NaT                                      Men   \n",
              "NaT                                      Men   \n",
              "NaT                                      Men   \n",
              "2020-06-23 23:59:10+00:00                Men   \n",
              "\n",
              "                                                product_sku  \\\n",
              "sold_at                                                       \n",
              "2021-07-20 14:34:10+00:00  22811EE19846217512507785E74D12CC   \n",
              "NaT                        22811EE19846217512507785E74D12CC   \n",
              "NaT                        22811EE19846217512507785E74D12CC   \n",
              "NaT                        22811EE19846217512507785E74D12CC   \n",
              "2020-06-23 23:59:10+00:00  22811EE19846217512507785E74D12CC   \n",
              "\n",
              "                           product_distribution_center_id  cost_y  category  \\\n",
              "sold_at                                                                       \n",
              "2021-07-20 14:34:10+00:00                               3       1         1   \n",
              "NaT                                                     3       1         1   \n",
              "NaT                                                     3       1         1   \n",
              "NaT                                                     3       1         1   \n",
              "2020-06-23 23:59:10+00:00                               3       1         1   \n",
              "\n",
              "                           name  brand  retail_price  department  sku  \\\n",
              "sold_at                                                                 \n",
              "2021-07-20 14:34:10+00:00     1      0             1           1    1   \n",
              "NaT                           1      0             1           1    1   \n",
              "NaT                           1      0             1           1    1   \n",
              "NaT                           1      0             1           1    1   \n",
              "2020-06-23 23:59:10+00:00     1      0             1           1    1   \n",
              "\n",
              "                           distribution_center_id  \n",
              "sold_at                                            \n",
              "2021-07-20 14:34:10+00:00                       1  \n",
              "NaT                                             1  \n",
              "NaT                                             1  \n",
              "NaT                                             1  \n",
              "2020-06-23 23:59:10+00:00                       1  "
            ],
            "text/html": [
              "\n",
              "  <div id=\"df-e14ac2a1-32d6-4acf-822f-efe80d195a13\">\n",
              "    <div class=\"colab-df-container\">\n",
              "      <div>\n",
              "<style scoped>\n",
              "    .dataframe tbody tr th:only-of-type {\n",
              "        vertical-align: middle;\n",
              "    }\n",
              "\n",
              "    .dataframe tbody tr th {\n",
              "        vertical-align: top;\n",
              "    }\n",
              "\n",
              "    .dataframe thead th {\n",
              "        text-align: right;\n",
              "    }\n",
              "</style>\n",
              "<table border=\"1\" class=\"dataframe\">\n",
              "  <thead>\n",
              "    <tr style=\"text-align: right;\">\n",
              "      <th></th>\n",
              "      <th>id</th>\n",
              "      <th>product_id</th>\n",
              "      <th>created_at</th>\n",
              "      <th>cost_x</th>\n",
              "      <th>product_category</th>\n",
              "      <th>product_name</th>\n",
              "      <th>product_brand</th>\n",
              "      <th>product_retail_price</th>\n",
              "      <th>product_department</th>\n",
              "      <th>product_sku</th>\n",
              "      <th>product_distribution_center_id</th>\n",
              "      <th>cost_y</th>\n",
              "      <th>category</th>\n",
              "      <th>name</th>\n",
              "      <th>brand</th>\n",
              "      <th>retail_price</th>\n",
              "      <th>department</th>\n",
              "      <th>sku</th>\n",
              "      <th>distribution_center_id</th>\n",
              "    </tr>\n",
              "    <tr>\n",
              "      <th>sold_at</th>\n",
              "      <th></th>\n",
              "      <th></th>\n",
              "      <th></th>\n",
              "      <th></th>\n",
              "      <th></th>\n",
              "      <th></th>\n",
              "      <th></th>\n",
              "      <th></th>\n",
              "      <th></th>\n",
              "      <th></th>\n",
              "      <th></th>\n",
              "      <th></th>\n",
              "      <th></th>\n",
              "      <th></th>\n",
              "      <th></th>\n",
              "      <th></th>\n",
              "      <th></th>\n",
              "      <th></th>\n",
              "      <th></th>\n",
              "    </tr>\n",
              "  </thead>\n",
              "  <tbody>\n",
              "    <tr>\n",
              "      <th>2021-07-20 14:34:10+00:00</th>\n",
              "      <td>90967</td>\n",
              "      <td>16898</td>\n",
              "      <td>2021-07-19 02:20:10+00:00</td>\n",
              "      <td>13.925</td>\n",
              "      <td>Tops &amp; Tees</td>\n",
              "      <td>Quiksilver Waterman Men's On The Rise</td>\n",
              "      <td>NaN</td>\n",
              "      <td>25.0</td>\n",
              "      <td>Men</td>\n",
              "      <td>22811EE19846217512507785E74D12CC</td>\n",
              "      <td>3</td>\n",
              "      <td>1</td>\n",
              "      <td>1</td>\n",
              "      <td>1</td>\n",
              "      <td>0</td>\n",
              "      <td>1</td>\n",
              "      <td>1</td>\n",
              "      <td>1</td>\n",
              "      <td>1</td>\n",
              "    </tr>\n",
              "    <tr>\n",
              "      <th>NaT</th>\n",
              "      <td>90968</td>\n",
              "      <td>16898</td>\n",
              "      <td>2020-04-13 07:46:00+00:00</td>\n",
              "      <td>13.925</td>\n",
              "      <td>Tops &amp; Tees</td>\n",
              "      <td>Quiksilver Waterman Men's On The Rise</td>\n",
              "      <td>NaN</td>\n",
              "      <td>25.0</td>\n",
              "      <td>Men</td>\n",
              "      <td>22811EE19846217512507785E74D12CC</td>\n",
              "      <td>3</td>\n",
              "      <td>1</td>\n",
              "      <td>1</td>\n",
              "      <td>1</td>\n",
              "      <td>0</td>\n",
              "      <td>1</td>\n",
              "      <td>1</td>\n",
              "      <td>1</td>\n",
              "      <td>1</td>\n",
              "    </tr>\n",
              "    <tr>\n",
              "      <th>NaT</th>\n",
              "      <td>90969</td>\n",
              "      <td>16898</td>\n",
              "      <td>2020-09-02 17:43:00+00:00</td>\n",
              "      <td>13.925</td>\n",
              "      <td>Tops &amp; Tees</td>\n",
              "      <td>Quiksilver Waterman Men's On The Rise</td>\n",
              "      <td>NaN</td>\n",
              "      <td>25.0</td>\n",
              "      <td>Men</td>\n",
              "      <td>22811EE19846217512507785E74D12CC</td>\n",
              "      <td>3</td>\n",
              "      <td>1</td>\n",
              "      <td>1</td>\n",
              "      <td>1</td>\n",
              "      <td>0</td>\n",
              "      <td>1</td>\n",
              "      <td>1</td>\n",
              "      <td>1</td>\n",
              "      <td>1</td>\n",
              "    </tr>\n",
              "    <tr>\n",
              "      <th>NaT</th>\n",
              "      <td>90970</td>\n",
              "      <td>16898</td>\n",
              "      <td>2021-08-19 15:17:00+00:00</td>\n",
              "      <td>13.925</td>\n",
              "      <td>Tops &amp; Tees</td>\n",
              "      <td>Quiksilver Waterman Men's On The Rise</td>\n",
              "      <td>NaN</td>\n",
              "      <td>25.0</td>\n",
              "      <td>Men</td>\n",
              "      <td>22811EE19846217512507785E74D12CC</td>\n",
              "      <td>3</td>\n",
              "      <td>1</td>\n",
              "      <td>1</td>\n",
              "      <td>1</td>\n",
              "      <td>0</td>\n",
              "      <td>1</td>\n",
              "      <td>1</td>\n",
              "      <td>1</td>\n",
              "      <td>1</td>\n",
              "    </tr>\n",
              "    <tr>\n",
              "      <th>2020-06-23 23:59:10+00:00</th>\n",
              "      <td>96715</td>\n",
              "      <td>16898</td>\n",
              "      <td>2020-05-09 11:16:10+00:00</td>\n",
              "      <td>13.925</td>\n",
              "      <td>Tops &amp; Tees</td>\n",
              "      <td>Quiksilver Waterman Men's On The Rise</td>\n",
              "      <td>NaN</td>\n",
              "      <td>25.0</td>\n",
              "      <td>Men</td>\n",
              "      <td>22811EE19846217512507785E74D12CC</td>\n",
              "      <td>3</td>\n",
              "      <td>1</td>\n",
              "      <td>1</td>\n",
              "      <td>1</td>\n",
              "      <td>0</td>\n",
              "      <td>1</td>\n",
              "      <td>1</td>\n",
              "      <td>1</td>\n",
              "      <td>1</td>\n",
              "    </tr>\n",
              "  </tbody>\n",
              "</table>\n",
              "</div>\n",
              "      <button class=\"colab-df-convert\" onclick=\"convertToInteractive('df-e14ac2a1-32d6-4acf-822f-efe80d195a13')\"\n",
              "              title=\"Convert this dataframe to an interactive table.\"\n",
              "              style=\"display:none;\">\n",
              "        \n",
              "  <svg xmlns=\"http://www.w3.org/2000/svg\" height=\"24px\"viewBox=\"0 0 24 24\"\n",
              "       width=\"24px\">\n",
              "    <path d=\"M0 0h24v24H0V0z\" fill=\"none\"/>\n",
              "    <path d=\"M18.56 5.44l.94 2.06.94-2.06 2.06-.94-2.06-.94-.94-2.06-.94 2.06-2.06.94zm-11 1L8.5 8.5l.94-2.06 2.06-.94-2.06-.94L8.5 2.5l-.94 2.06-2.06.94zm10 10l.94 2.06.94-2.06 2.06-.94-2.06-.94-.94-2.06-.94 2.06-2.06.94z\"/><path d=\"M17.41 7.96l-1.37-1.37c-.4-.4-.92-.59-1.43-.59-.52 0-1.04.2-1.43.59L10.3 9.45l-7.72 7.72c-.78.78-.78 2.05 0 2.83L4 21.41c.39.39.9.59 1.41.59.51 0 1.02-.2 1.41-.59l7.78-7.78 2.81-2.81c.8-.78.8-2.07 0-2.86zM5.41 20L4 18.59l7.72-7.72 1.47 1.35L5.41 20z\"/>\n",
              "  </svg>\n",
              "      </button>\n",
              "      \n",
              "  <style>\n",
              "    .colab-df-container {\n",
              "      display:flex;\n",
              "      flex-wrap:wrap;\n",
              "      gap: 12px;\n",
              "    }\n",
              "\n",
              "    .colab-df-convert {\n",
              "      background-color: #E8F0FE;\n",
              "      border: none;\n",
              "      border-radius: 50%;\n",
              "      cursor: pointer;\n",
              "      display: none;\n",
              "      fill: #1967D2;\n",
              "      height: 32px;\n",
              "      padding: 0 0 0 0;\n",
              "      width: 32px;\n",
              "    }\n",
              "\n",
              "    .colab-df-convert:hover {\n",
              "      background-color: #E2EBFA;\n",
              "      box-shadow: 0px 1px 2px rgba(60, 64, 67, 0.3), 0px 1px 3px 1px rgba(60, 64, 67, 0.15);\n",
              "      fill: #174EA6;\n",
              "    }\n",
              "\n",
              "    [theme=dark] .colab-df-convert {\n",
              "      background-color: #3B4455;\n",
              "      fill: #D2E3FC;\n",
              "    }\n",
              "\n",
              "    [theme=dark] .colab-df-convert:hover {\n",
              "      background-color: #434B5C;\n",
              "      box-shadow: 0px 1px 3px 1px rgba(0, 0, 0, 0.15);\n",
              "      filter: drop-shadow(0px 1px 2px rgba(0, 0, 0, 0.3));\n",
              "      fill: #FFFFFF;\n",
              "    }\n",
              "  </style>\n",
              "\n",
              "      <script>\n",
              "        const buttonEl =\n",
              "          document.querySelector('#df-e14ac2a1-32d6-4acf-822f-efe80d195a13 button.colab-df-convert');\n",
              "        buttonEl.style.display =\n",
              "          google.colab.kernel.accessAllowed ? 'block' : 'none';\n",
              "\n",
              "        async function convertToInteractive(key) {\n",
              "          const element = document.querySelector('#df-e14ac2a1-32d6-4acf-822f-efe80d195a13');\n",
              "          const dataTable =\n",
              "            await google.colab.kernel.invokeFunction('convertToInteractive',\n",
              "                                                     [key], {});\n",
              "          if (!dataTable) return;\n",
              "\n",
              "          const docLinkHtml = 'Like what you see? Visit the ' +\n",
              "            '<a target=\"_blank\" href=https://colab.research.google.com/notebooks/data_table.ipynb>data table notebook</a>'\n",
              "            + ' to learn more about interactive tables.';\n",
              "          element.innerHTML = '';\n",
              "          dataTable['output_type'] = 'display_data';\n",
              "          await google.colab.output.renderOutput(dataTable, element);\n",
              "          const docLink = document.createElement('div');\n",
              "          docLink.innerHTML = docLinkHtml;\n",
              "          element.appendChild(docLink);\n",
              "        }\n",
              "      </script>\n",
              "    </div>\n",
              "  </div>\n",
              "  "
            ]
          },
          "metadata": {},
          "execution_count": 16
        }
      ]
    },
    {
      "cell_type": "markdown",
      "source": [
        "# EDA"
      ],
      "metadata": {
        "id": "8HoHfvww6Pge"
      }
    },
    {
      "cell_type": "markdown",
      "source": [
        "## Corellation Matrix"
      ],
      "metadata": {
        "id": "fPCAsB0okCdv"
      }
    },
    {
      "cell_type": "code",
      "source": [
        "inner_join.select_dtypes(['float64', 'int64']).corr()"
      ],
      "metadata": {
        "colab": {
          "base_uri": "https://localhost:8080/",
          "height": 521
        },
        "id": "S6Aghr94jTYd",
        "outputId": "fbc99c12-9399-4437-877e-6aca2c7690d2"
      },
      "execution_count": 30,
      "outputs": [
        {
          "output_type": "execute_result",
          "data": {
            "text/plain": [
              "                                      id  product_id    cost_x  \\\n",
              "id                              1.000000   -0.002393 -0.002823   \n",
              "product_id                     -0.002393    1.000000 -0.008774   \n",
              "cost_x                         -0.002823   -0.008774  1.000000   \n",
              "product_retail_price           -0.003294   -0.001736  0.982524   \n",
              "product_distribution_center_id  0.004094    0.018531  0.005684   \n",
              "cost_y                               NaN         NaN       NaN   \n",
              "category                             NaN         NaN       NaN   \n",
              "name                           -0.002172   -0.003083 -0.003795   \n",
              "brand                          -0.001242   -0.006033  0.011550   \n",
              "retail_price                         NaN         NaN       NaN   \n",
              "department                           NaN         NaN       NaN   \n",
              "sku                                  NaN         NaN       NaN   \n",
              "distribution_center_id               NaN         NaN       NaN   \n",
              "\n",
              "                                product_retail_price  \\\n",
              "id                                         -0.003294   \n",
              "product_id                                 -0.001736   \n",
              "cost_x                                      0.982524   \n",
              "product_retail_price                        1.000000   \n",
              "product_distribution_center_id             -0.007425   \n",
              "cost_y                                           NaN   \n",
              "category                                         NaN   \n",
              "name                                       -0.003940   \n",
              "brand                                       0.011998   \n",
              "retail_price                                     NaN   \n",
              "department                                       NaN   \n",
              "sku                                              NaN   \n",
              "distribution_center_id                           NaN   \n",
              "\n",
              "                                product_distribution_center_id  cost_y  \\\n",
              "id                                                    0.004094     NaN   \n",
              "product_id                                            0.018531     NaN   \n",
              "cost_x                                                0.005684     NaN   \n",
              "product_retail_price                                 -0.007425     NaN   \n",
              "product_distribution_center_id                        1.000000     NaN   \n",
              "cost_y                                                     NaN     NaN   \n",
              "category                                                   NaN     NaN   \n",
              "name                                                  0.010261     NaN   \n",
              "brand                                                 0.019063     NaN   \n",
              "retail_price                                               NaN     NaN   \n",
              "department                                                 NaN     NaN   \n",
              "sku                                                        NaN     NaN   \n",
              "distribution_center_id                                     NaN     NaN   \n",
              "\n",
              "                                category      name     brand  retail_price  \\\n",
              "id                                   NaN -0.002172 -0.001242           NaN   \n",
              "product_id                           NaN -0.003083 -0.006033           NaN   \n",
              "cost_x                               NaN -0.003795  0.011550           NaN   \n",
              "product_retail_price                 NaN -0.003940  0.011998           NaN   \n",
              "product_distribution_center_id       NaN  0.010261  0.019063           NaN   \n",
              "cost_y                               NaN       NaN       NaN           NaN   \n",
              "category                             NaN       NaN       NaN           NaN   \n",
              "name                                 NaN  1.000000 -0.000235           NaN   \n",
              "brand                                NaN -0.000235  1.000000           NaN   \n",
              "retail_price                         NaN       NaN       NaN           NaN   \n",
              "department                           NaN       NaN       NaN           NaN   \n",
              "sku                                  NaN       NaN       NaN           NaN   \n",
              "distribution_center_id               NaN       NaN       NaN           NaN   \n",
              "\n",
              "                                department  sku  distribution_center_id  \n",
              "id                                     NaN  NaN                     NaN  \n",
              "product_id                             NaN  NaN                     NaN  \n",
              "cost_x                                 NaN  NaN                     NaN  \n",
              "product_retail_price                   NaN  NaN                     NaN  \n",
              "product_distribution_center_id         NaN  NaN                     NaN  \n",
              "cost_y                                 NaN  NaN                     NaN  \n",
              "category                               NaN  NaN                     NaN  \n",
              "name                                   NaN  NaN                     NaN  \n",
              "brand                                  NaN  NaN                     NaN  \n",
              "retail_price                           NaN  NaN                     NaN  \n",
              "department                             NaN  NaN                     NaN  \n",
              "sku                                    NaN  NaN                     NaN  \n",
              "distribution_center_id                 NaN  NaN                     NaN  "
            ],
            "text/html": [
              "\n",
              "  <div id=\"df-677518ba-58ce-42d0-9c0b-b3d265b3e921\">\n",
              "    <div class=\"colab-df-container\">\n",
              "      <div>\n",
              "<style scoped>\n",
              "    .dataframe tbody tr th:only-of-type {\n",
              "        vertical-align: middle;\n",
              "    }\n",
              "\n",
              "    .dataframe tbody tr th {\n",
              "        vertical-align: top;\n",
              "    }\n",
              "\n",
              "    .dataframe thead th {\n",
              "        text-align: right;\n",
              "    }\n",
              "</style>\n",
              "<table border=\"1\" class=\"dataframe\">\n",
              "  <thead>\n",
              "    <tr style=\"text-align: right;\">\n",
              "      <th></th>\n",
              "      <th>id</th>\n",
              "      <th>product_id</th>\n",
              "      <th>cost_x</th>\n",
              "      <th>product_retail_price</th>\n",
              "      <th>product_distribution_center_id</th>\n",
              "      <th>cost_y</th>\n",
              "      <th>category</th>\n",
              "      <th>name</th>\n",
              "      <th>brand</th>\n",
              "      <th>retail_price</th>\n",
              "      <th>department</th>\n",
              "      <th>sku</th>\n",
              "      <th>distribution_center_id</th>\n",
              "    </tr>\n",
              "  </thead>\n",
              "  <tbody>\n",
              "    <tr>\n",
              "      <th>id</th>\n",
              "      <td>1.000000</td>\n",
              "      <td>-0.002393</td>\n",
              "      <td>-0.002823</td>\n",
              "      <td>-0.003294</td>\n",
              "      <td>0.004094</td>\n",
              "      <td>NaN</td>\n",
              "      <td>NaN</td>\n",
              "      <td>-0.002172</td>\n",
              "      <td>-0.001242</td>\n",
              "      <td>NaN</td>\n",
              "      <td>NaN</td>\n",
              "      <td>NaN</td>\n",
              "      <td>NaN</td>\n",
              "    </tr>\n",
              "    <tr>\n",
              "      <th>product_id</th>\n",
              "      <td>-0.002393</td>\n",
              "      <td>1.000000</td>\n",
              "      <td>-0.008774</td>\n",
              "      <td>-0.001736</td>\n",
              "      <td>0.018531</td>\n",
              "      <td>NaN</td>\n",
              "      <td>NaN</td>\n",
              "      <td>-0.003083</td>\n",
              "      <td>-0.006033</td>\n",
              "      <td>NaN</td>\n",
              "      <td>NaN</td>\n",
              "      <td>NaN</td>\n",
              "      <td>NaN</td>\n",
              "    </tr>\n",
              "    <tr>\n",
              "      <th>cost_x</th>\n",
              "      <td>-0.002823</td>\n",
              "      <td>-0.008774</td>\n",
              "      <td>1.000000</td>\n",
              "      <td>0.982524</td>\n",
              "      <td>0.005684</td>\n",
              "      <td>NaN</td>\n",
              "      <td>NaN</td>\n",
              "      <td>-0.003795</td>\n",
              "      <td>0.011550</td>\n",
              "      <td>NaN</td>\n",
              "      <td>NaN</td>\n",
              "      <td>NaN</td>\n",
              "      <td>NaN</td>\n",
              "    </tr>\n",
              "    <tr>\n",
              "      <th>product_retail_price</th>\n",
              "      <td>-0.003294</td>\n",
              "      <td>-0.001736</td>\n",
              "      <td>0.982524</td>\n",
              "      <td>1.000000</td>\n",
              "      <td>-0.007425</td>\n",
              "      <td>NaN</td>\n",
              "      <td>NaN</td>\n",
              "      <td>-0.003940</td>\n",
              "      <td>0.011998</td>\n",
              "      <td>NaN</td>\n",
              "      <td>NaN</td>\n",
              "      <td>NaN</td>\n",
              "      <td>NaN</td>\n",
              "    </tr>\n",
              "    <tr>\n",
              "      <th>product_distribution_center_id</th>\n",
              "      <td>0.004094</td>\n",
              "      <td>0.018531</td>\n",
              "      <td>0.005684</td>\n",
              "      <td>-0.007425</td>\n",
              "      <td>1.000000</td>\n",
              "      <td>NaN</td>\n",
              "      <td>NaN</td>\n",
              "      <td>0.010261</td>\n",
              "      <td>0.019063</td>\n",
              "      <td>NaN</td>\n",
              "      <td>NaN</td>\n",
              "      <td>NaN</td>\n",
              "      <td>NaN</td>\n",
              "    </tr>\n",
              "    <tr>\n",
              "      <th>cost_y</th>\n",
              "      <td>NaN</td>\n",
              "      <td>NaN</td>\n",
              "      <td>NaN</td>\n",
              "      <td>NaN</td>\n",
              "      <td>NaN</td>\n",
              "      <td>NaN</td>\n",
              "      <td>NaN</td>\n",
              "      <td>NaN</td>\n",
              "      <td>NaN</td>\n",
              "      <td>NaN</td>\n",
              "      <td>NaN</td>\n",
              "      <td>NaN</td>\n",
              "      <td>NaN</td>\n",
              "    </tr>\n",
              "    <tr>\n",
              "      <th>category</th>\n",
              "      <td>NaN</td>\n",
              "      <td>NaN</td>\n",
              "      <td>NaN</td>\n",
              "      <td>NaN</td>\n",
              "      <td>NaN</td>\n",
              "      <td>NaN</td>\n",
              "      <td>NaN</td>\n",
              "      <td>NaN</td>\n",
              "      <td>NaN</td>\n",
              "      <td>NaN</td>\n",
              "      <td>NaN</td>\n",
              "      <td>NaN</td>\n",
              "      <td>NaN</td>\n",
              "    </tr>\n",
              "    <tr>\n",
              "      <th>name</th>\n",
              "      <td>-0.002172</td>\n",
              "      <td>-0.003083</td>\n",
              "      <td>-0.003795</td>\n",
              "      <td>-0.003940</td>\n",
              "      <td>0.010261</td>\n",
              "      <td>NaN</td>\n",
              "      <td>NaN</td>\n",
              "      <td>1.000000</td>\n",
              "      <td>-0.000235</td>\n",
              "      <td>NaN</td>\n",
              "      <td>NaN</td>\n",
              "      <td>NaN</td>\n",
              "      <td>NaN</td>\n",
              "    </tr>\n",
              "    <tr>\n",
              "      <th>brand</th>\n",
              "      <td>-0.001242</td>\n",
              "      <td>-0.006033</td>\n",
              "      <td>0.011550</td>\n",
              "      <td>0.011998</td>\n",
              "      <td>0.019063</td>\n",
              "      <td>NaN</td>\n",
              "      <td>NaN</td>\n",
              "      <td>-0.000235</td>\n",
              "      <td>1.000000</td>\n",
              "      <td>NaN</td>\n",
              "      <td>NaN</td>\n",
              "      <td>NaN</td>\n",
              "      <td>NaN</td>\n",
              "    </tr>\n",
              "    <tr>\n",
              "      <th>retail_price</th>\n",
              "      <td>NaN</td>\n",
              "      <td>NaN</td>\n",
              "      <td>NaN</td>\n",
              "      <td>NaN</td>\n",
              "      <td>NaN</td>\n",
              "      <td>NaN</td>\n",
              "      <td>NaN</td>\n",
              "      <td>NaN</td>\n",
              "      <td>NaN</td>\n",
              "      <td>NaN</td>\n",
              "      <td>NaN</td>\n",
              "      <td>NaN</td>\n",
              "      <td>NaN</td>\n",
              "    </tr>\n",
              "    <tr>\n",
              "      <th>department</th>\n",
              "      <td>NaN</td>\n",
              "      <td>NaN</td>\n",
              "      <td>NaN</td>\n",
              "      <td>NaN</td>\n",
              "      <td>NaN</td>\n",
              "      <td>NaN</td>\n",
              "      <td>NaN</td>\n",
              "      <td>NaN</td>\n",
              "      <td>NaN</td>\n",
              "      <td>NaN</td>\n",
              "      <td>NaN</td>\n",
              "      <td>NaN</td>\n",
              "      <td>NaN</td>\n",
              "    </tr>\n",
              "    <tr>\n",
              "      <th>sku</th>\n",
              "      <td>NaN</td>\n",
              "      <td>NaN</td>\n",
              "      <td>NaN</td>\n",
              "      <td>NaN</td>\n",
              "      <td>NaN</td>\n",
              "      <td>NaN</td>\n",
              "      <td>NaN</td>\n",
              "      <td>NaN</td>\n",
              "      <td>NaN</td>\n",
              "      <td>NaN</td>\n",
              "      <td>NaN</td>\n",
              "      <td>NaN</td>\n",
              "      <td>NaN</td>\n",
              "    </tr>\n",
              "    <tr>\n",
              "      <th>distribution_center_id</th>\n",
              "      <td>NaN</td>\n",
              "      <td>NaN</td>\n",
              "      <td>NaN</td>\n",
              "      <td>NaN</td>\n",
              "      <td>NaN</td>\n",
              "      <td>NaN</td>\n",
              "      <td>NaN</td>\n",
              "      <td>NaN</td>\n",
              "      <td>NaN</td>\n",
              "      <td>NaN</td>\n",
              "      <td>NaN</td>\n",
              "      <td>NaN</td>\n",
              "      <td>NaN</td>\n",
              "    </tr>\n",
              "  </tbody>\n",
              "</table>\n",
              "</div>\n",
              "      <button class=\"colab-df-convert\" onclick=\"convertToInteractive('df-677518ba-58ce-42d0-9c0b-b3d265b3e921')\"\n",
              "              title=\"Convert this dataframe to an interactive table.\"\n",
              "              style=\"display:none;\">\n",
              "        \n",
              "  <svg xmlns=\"http://www.w3.org/2000/svg\" height=\"24px\"viewBox=\"0 0 24 24\"\n",
              "       width=\"24px\">\n",
              "    <path d=\"M0 0h24v24H0V0z\" fill=\"none\"/>\n",
              "    <path d=\"M18.56 5.44l.94 2.06.94-2.06 2.06-.94-2.06-.94-.94-2.06-.94 2.06-2.06.94zm-11 1L8.5 8.5l.94-2.06 2.06-.94-2.06-.94L8.5 2.5l-.94 2.06-2.06.94zm10 10l.94 2.06.94-2.06 2.06-.94-2.06-.94-.94-2.06-.94 2.06-2.06.94z\"/><path d=\"M17.41 7.96l-1.37-1.37c-.4-.4-.92-.59-1.43-.59-.52 0-1.04.2-1.43.59L10.3 9.45l-7.72 7.72c-.78.78-.78 2.05 0 2.83L4 21.41c.39.39.9.59 1.41.59.51 0 1.02-.2 1.41-.59l7.78-7.78 2.81-2.81c.8-.78.8-2.07 0-2.86zM5.41 20L4 18.59l7.72-7.72 1.47 1.35L5.41 20z\"/>\n",
              "  </svg>\n",
              "      </button>\n",
              "      \n",
              "  <style>\n",
              "    .colab-df-container {\n",
              "      display:flex;\n",
              "      flex-wrap:wrap;\n",
              "      gap: 12px;\n",
              "    }\n",
              "\n",
              "    .colab-df-convert {\n",
              "      background-color: #E8F0FE;\n",
              "      border: none;\n",
              "      border-radius: 50%;\n",
              "      cursor: pointer;\n",
              "      display: none;\n",
              "      fill: #1967D2;\n",
              "      height: 32px;\n",
              "      padding: 0 0 0 0;\n",
              "      width: 32px;\n",
              "    }\n",
              "\n",
              "    .colab-df-convert:hover {\n",
              "      background-color: #E2EBFA;\n",
              "      box-shadow: 0px 1px 2px rgba(60, 64, 67, 0.3), 0px 1px 3px 1px rgba(60, 64, 67, 0.15);\n",
              "      fill: #174EA6;\n",
              "    }\n",
              "\n",
              "    [theme=dark] .colab-df-convert {\n",
              "      background-color: #3B4455;\n",
              "      fill: #D2E3FC;\n",
              "    }\n",
              "\n",
              "    [theme=dark] .colab-df-convert:hover {\n",
              "      background-color: #434B5C;\n",
              "      box-shadow: 0px 1px 3px 1px rgba(0, 0, 0, 0.15);\n",
              "      filter: drop-shadow(0px 1px 2px rgba(0, 0, 0, 0.3));\n",
              "      fill: #FFFFFF;\n",
              "    }\n",
              "  </style>\n",
              "\n",
              "      <script>\n",
              "        const buttonEl =\n",
              "          document.querySelector('#df-677518ba-58ce-42d0-9c0b-b3d265b3e921 button.colab-df-convert');\n",
              "        buttonEl.style.display =\n",
              "          google.colab.kernel.accessAllowed ? 'block' : 'none';\n",
              "\n",
              "        async function convertToInteractive(key) {\n",
              "          const element = document.querySelector('#df-677518ba-58ce-42d0-9c0b-b3d265b3e921');\n",
              "          const dataTable =\n",
              "            await google.colab.kernel.invokeFunction('convertToInteractive',\n",
              "                                                     [key], {});\n",
              "          if (!dataTable) return;\n",
              "\n",
              "          const docLinkHtml = 'Like what you see? Visit the ' +\n",
              "            '<a target=\"_blank\" href=https://colab.research.google.com/notebooks/data_table.ipynb>data table notebook</a>'\n",
              "            + ' to learn more about interactive tables.';\n",
              "          element.innerHTML = '';\n",
              "          dataTable['output_type'] = 'display_data';\n",
              "          await google.colab.output.renderOutput(dataTable, element);\n",
              "          const docLink = document.createElement('div');\n",
              "          docLink.innerHTML = docLinkHtml;\n",
              "          element.appendChild(docLink);\n",
              "        }\n",
              "      </script>\n",
              "    </div>\n",
              "  </div>\n",
              "  "
            ]
          },
          "metadata": {},
          "execution_count": 30
        }
      ]
    },
    {
      "cell_type": "markdown",
      "source": [
        "**Inference:** We can see that all 7 columns have a direct relationship, which is our target variable."
      ],
      "metadata": {
        "id": "gzYW_eWAjtPV"
      }
    },
    {
      "cell_type": "code",
      "source": [
        "inner_join.corr()['cost_x'].sort_values()"
      ],
      "metadata": {
        "colab": {
          "base_uri": "https://localhost:8080/"
        },
        "id": "-yHRaArgpqpH",
        "outputId": "e126e807-6999-45de-926c-71b339caeed6"
      },
      "execution_count": 43,
      "outputs": [
        {
          "output_type": "execute_result",
          "data": {
            "text/plain": [
              "product_id                       -0.008774\n",
              "name                             -0.003795\n",
              "id                               -0.002823\n",
              "product_distribution_center_id    0.005684\n",
              "brand                             0.011550\n",
              "product_retail_price              0.982524\n",
              "cost_x                            1.000000\n",
              "cost_y                                 NaN\n",
              "category                               NaN\n",
              "retail_price                           NaN\n",
              "department                             NaN\n",
              "sku                                    NaN\n",
              "distribution_center_id                 NaN\n",
              "Name: cost_x, dtype: float64"
            ]
          },
          "metadata": {},
          "execution_count": 43
        }
      ]
    },
    {
      "cell_type": "code",
      "source": [
        "inv_items.corr()['product_distribution_center_id'].sort_values()"
      ],
      "metadata": {
        "colab": {
          "base_uri": "https://localhost:8080/"
        },
        "id": "FuluPv47_Xlw",
        "outputId": "03daa675-0513-43e4-dd04-fad125779a3b"
      },
      "execution_count": 79,
      "outputs": [
        {
          "output_type": "execute_result",
          "data": {
            "text/plain": [
              "product_retail_price             -0.007425\n",
              "id                                0.004094\n",
              "cost                              0.005684\n",
              "product_id                        0.018531\n",
              "product_distribution_center_id    1.000000\n",
              "Name: product_distribution_center_id, dtype: float64"
            ]
          },
          "metadata": {},
          "execution_count": 79
        }
      ]
    },
    {
      "cell_type": "code",
      "source": [
        "products.corr()['distribution_center_id'].sort_values()"
      ],
      "metadata": {
        "colab": {
          "base_uri": "https://localhost:8080/"
        },
        "id": "o3paEZHP_CKq",
        "outputId": "948f9f9b-6354-4e14-e4b1-ab8aeb9e817e"
      },
      "execution_count": 78,
      "outputs": [
        {
          "output_type": "execute_result",
          "data": {
            "text/plain": [
              "retail_price             -0.012443\n",
              "cost                      0.000443\n",
              "id                        0.015581\n",
              "distribution_center_id    1.000000\n",
              "Name: distribution_center_id, dtype: float64"
            ]
          },
          "metadata": {},
          "execution_count": 78
        }
      ]
    },
    {
      "cell_type": "code",
      "source": [
        "sns.heatmap(inner_join.select_dtypes(['float64', 'int64']).corr(), annot=True)\n",
        "plt.show()"
      ],
      "metadata": {
        "colab": {
          "base_uri": "https://localhost:8080/",
          "height": 411
        },
        "id": "EobRHTNZnUkz",
        "outputId": "b5a609d9-ed19-4506-b56b-2e55da0988ab"
      },
      "execution_count": 41,
      "outputs": [
        {
          "output_type": "display_data",
          "data": {
            "text/plain": [
              "<Figure size 432x288 with 2 Axes>"
            ],
            "image/png": "[encoded data removed]"
          },
          "metadata": {
            "needs_background": "light"
          }
        }
      ]
    },
    {
      "cell_type": "code",
      "source": [
        "inv_items.select_dtypes(['float64', 'int64']).corr()"
      ],
      "metadata": {
        "colab": {
          "base_uri": "https://localhost:8080/",
          "height": 206
        },
        "id": "Fl4FsjDom_zM",
        "outputId": "09a3204f-5572-420f-9eeb-6a39037cc601"
      },
      "execution_count": 37,
      "outputs": [
        {
          "output_type": "execute_result",
          "data": {
            "text/plain": [
              "                                      id  product_id      cost  \\\n",
              "id                              1.000000   -0.002393 -0.002823   \n",
              "product_id                     -0.002393    1.000000 -0.008774   \n",
              "cost                           -0.002823   -0.008774  1.000000   \n",
              "product_retail_price           -0.003294   -0.001736  0.982524   \n",
              "product_distribution_center_id  0.004094    0.018531  0.005684   \n",
              "\n",
              "                                product_retail_price  \\\n",
              "id                                         -0.003294   \n",
              "product_id                                 -0.001736   \n",
              "cost                                        0.982524   \n",
              "product_retail_price                        1.000000   \n",
              "product_distribution_center_id             -0.007425   \n",
              "\n",
              "                                product_distribution_center_id  \n",
              "id                                                    0.004094  \n",
              "product_id                                            0.018531  \n",
              "cost                                                  0.005684  \n",
              "product_retail_price                                 -0.007425  \n",
              "product_distribution_center_id                        1.000000  "
            ],
            "text/html": [
              "\n",
              "  <div id=\"df-67580fcf-04fe-4784-8040-d1c32929b039\">\n",
              "    <div class=\"colab-df-container\">\n",
              "      <div>\n",
              "<style scoped>\n",
              "    .dataframe tbody tr th:only-of-type {\n",
              "        vertical-align: middle;\n",
              "    }\n",
              "\n",
              "    .dataframe tbody tr th {\n",
              "        vertical-align: top;\n",
              "    }\n",
              "\n",
              "    .dataframe thead th {\n",
              "        text-align: right;\n",
              "    }\n",
              "</style>\n",
              "<table border=\"1\" class=\"dataframe\">\n",
              "  <thead>\n",
              "    <tr style=\"text-align: right;\">\n",
              "      <th></th>\n",
              "      <th>id</th>\n",
              "      <th>product_id</th>\n",
              "      <th>cost</th>\n",
              "      <th>product_retail_price</th>\n",
              "      <th>product_distribution_center_id</th>\n",
              "    </tr>\n",
              "  </thead>\n",
              "  <tbody>\n",
              "    <tr>\n",
              "      <th>id</th>\n",
              "      <td>1.000000</td>\n",
              "      <td>-0.002393</td>\n",
              "      <td>-0.002823</td>\n",
              "      <td>-0.003294</td>\n",
              "      <td>0.004094</td>\n",
              "    </tr>\n",
              "    <tr>\n",
              "      <th>product_id</th>\n",
              "      <td>-0.002393</td>\n",
              "      <td>1.000000</td>\n",
              "      <td>-0.008774</td>\n",
              "      <td>-0.001736</td>\n",
              "      <td>0.018531</td>\n",
              "    </tr>\n",
              "    <tr>\n",
              "      <th>cost</th>\n",
              "      <td>-0.002823</td>\n",
              "      <td>-0.008774</td>\n",
              "      <td>1.000000</td>\n",
              "      <td>0.982524</td>\n",
              "      <td>0.005684</td>\n",
              "    </tr>\n",
              "    <tr>\n",
              "      <th>product_retail_price</th>\n",
              "      <td>-0.003294</td>\n",
              "      <td>-0.001736</td>\n",
              "      <td>0.982524</td>\n",
              "      <td>1.000000</td>\n",
              "      <td>-0.007425</td>\n",
              "    </tr>\n",
              "    <tr>\n",
              "      <th>product_distribution_center_id</th>\n",
              "      <td>0.004094</td>\n",
              "      <td>0.018531</td>\n",
              "      <td>0.005684</td>\n",
              "      <td>-0.007425</td>\n",
              "      <td>1.000000</td>\n",
              "    </tr>\n",
              "  </tbody>\n",
              "</table>\n",
              "</div>\n",
              "      <button class=\"colab-df-convert\" onclick=\"convertToInteractive('df-67580fcf-04fe-4784-8040-d1c32929b039')\"\n",
              "              title=\"Convert this dataframe to an interactive table.\"\n",
              "              style=\"display:none;\">\n",
              "        \n",
              "  <svg xmlns=\"http://www.w3.org/2000/svg\" height=\"24px\"viewBox=\"0 0 24 24\"\n",
              "       width=\"24px\">\n",
              "    <path d=\"M0 0h24v24H0V0z\" fill=\"none\"/>\n",
              "    <path d=\"M18.56 5.44l.94 2.06.94-2.06 2.06-.94-2.06-.94-.94-2.06-.94 2.06-2.06.94zm-11 1L8.5 8.5l.94-2.06 2.06-.94-2.06-.94L8.5 2.5l-.94 2.06-2.06.94zm10 10l.94 2.06.94-2.06 2.06-.94-2.06-.94-.94-2.06-.94 2.06-2.06.94z\"/><path d=\"M17.41 7.96l-1.37-1.37c-.4-.4-.92-.59-1.43-.59-.52 0-1.04.2-1.43.59L10.3 9.45l-7.72 7.72c-.78.78-.78 2.05 0 2.83L4 21.41c.39.39.9.59 1.41.59.51 0 1.02-.2 1.41-.59l7.78-7.78 2.81-2.81c.8-.78.8-2.07 0-2.86zM5.41 20L4 18.59l7.72-7.72 1.47 1.35L5.41 20z\"/>\n",
              "  </svg>\n",
              "      </button>\n",
              "      \n",
              "  <style>\n",
              "    .colab-df-container {\n",
              "      display:flex;\n",
              "      flex-wrap:wrap;\n",
              "      gap: 12px;\n",
              "    }\n",
              "\n",
              "    .colab-df-convert {\n",
              "      background-color: #E8F0FE;\n",
              "      border: none;\n",
              "      border-radius: 50%;\n",
              "      cursor: pointer;\n",
              "      display: none;\n",
              "      fill: #1967D2;\n",
              "      height: 32px;\n",
              "      padding: 0 0 0 0;\n",
              "      width: 32px;\n",
              "    }\n",
              "\n",
              "    .colab-df-convert:hover {\n",
              "      background-color: #E2EBFA;\n",
              "      box-shadow: 0px 1px 2px rgba(60, 64, 67, 0.3), 0px 1px 3px 1px rgba(60, 64, 67, 0.15);\n",
              "      fill: #174EA6;\n",
              "    }\n",
              "\n",
              "    [theme=dark] .colab-df-convert {\n",
              "      background-color: #3B4455;\n",
              "      fill: #D2E3FC;\n",
              "    }\n",
              "\n",
              "    [theme=dark] .colab-df-convert:hover {\n",
              "      background-color: #434B5C;\n",
              "      box-shadow: 0px 1px 3px 1px rgba(0, 0, 0, 0.15);\n",
              "      filter: drop-shadow(0px 1px 2px rgba(0, 0, 0, 0.3));\n",
              "      fill: #FFFFFF;\n",
              "    }\n",
              "  </style>\n",
              "\n",
              "      <script>\n",
              "        const buttonEl =\n",
              "          document.querySelector('#df-67580fcf-04fe-4784-8040-d1c32929b039 button.colab-df-convert');\n",
              "        buttonEl.style.display =\n",
              "          google.colab.kernel.accessAllowed ? 'block' : 'none';\n",
              "\n",
              "        async function convertToInteractive(key) {\n",
              "          const element = document.querySelector('#df-67580fcf-04fe-4784-8040-d1c32929b039');\n",
              "          const dataTable =\n",
              "            await google.colab.kernel.invokeFunction('convertToInteractive',\n",
              "                                                     [key], {});\n",
              "          if (!dataTable) return;\n",
              "\n",
              "          const docLinkHtml = 'Like what you see? Visit the ' +\n",
              "            '<a target=\"_blank\" href=https://colab.research.google.com/notebooks/data_table.ipynb>data table notebook</a>'\n",
              "            + ' to learn more about interactive tables.';\n",
              "          element.innerHTML = '';\n",
              "          dataTable['output_type'] = 'display_data';\n",
              "          await google.colab.output.renderOutput(dataTable, element);\n",
              "          const docLink = document.createElement('div');\n",
              "          docLink.innerHTML = docLinkHtml;\n",
              "          element.appendChild(docLink);\n",
              "        }\n",
              "      </script>\n",
              "    </div>\n",
              "  </div>\n",
              "  "
            ]
          },
          "metadata": {},
          "execution_count": 37
        }
      ]
    },
    {
      "cell_type": "code",
      "source": [
        "sns.heatmap(inv_items.select_dtypes(['float64', 'int64']).corr(), annot=True, cmap='Blues')\n",
        "plt.show()"
      ],
      "metadata": {
        "colab": {
          "base_uri": "https://localhost:8080/",
          "height": 411
        },
        "id": "TecycDX_j_SY",
        "outputId": "7d490013-c5aa-41b9-f274-46cb7c9914eb"
      },
      "execution_count": 34,
      "outputs": [
        {
          "output_type": "display_data",
          "data": {
            "text/plain": [
              "<Figure size 432x288 with 2 Axes>"
            ],
            "image/png": "[encoded data removed]"
          },
          "metadata": {
            "needs_background": "light"
          }
        }
      ]
    },
    {
      "cell_type": "code",
      "source": [
        "products.select_dtypes(['float64', 'int64']).corr()"
      ],
      "metadata": {
        "colab": {
          "base_uri": "https://localhost:8080/",
          "height": 175
        },
        "id": "_nxPDecXnG6g",
        "outputId": "7ec7d2ec-6ec8-4d63-d4b1-a5884da49008"
      },
      "execution_count": 38,
      "outputs": [
        {
          "output_type": "execute_result",
          "data": {
            "text/plain": [
              "                              id      cost  retail_price  \\\n",
              "id                      1.000000 -0.009885     -0.003223   \n",
              "cost                   -0.009885  1.000000      0.982506   \n",
              "retail_price           -0.003223  0.982506      1.000000   \n",
              "distribution_center_id  0.015581  0.000443     -0.012443   \n",
              "\n",
              "                        distribution_center_id  \n",
              "id                                    0.015581  \n",
              "cost                                  0.000443  \n",
              "retail_price                         -0.012443  \n",
              "distribution_center_id                1.000000  "
            ],
            "text/html": [
              "\n",
              "  <div id=\"df-a88768d8-473f-4379-abd6-28c5cce0b7d7\">\n",
              "    <div class=\"colab-df-container\">\n",
              "      <div>\n",
              "<style scoped>\n",
              "    .dataframe tbody tr th:only-of-type {\n",
              "        vertical-align: middle;\n",
              "    }\n",
              "\n",
              "    .dataframe tbody tr th {\n",
              "        vertical-align: top;\n",
              "    }\n",
              "\n",
              "    .dataframe thead th {\n",
              "        text-align: right;\n",
              "    }\n",
              "</style>\n",
              "<table border=\"1\" class=\"dataframe\">\n",
              "  <thead>\n",
              "    <tr style=\"text-align: right;\">\n",
              "      <th></th>\n",
              "      <th>id</th>\n",
              "      <th>cost</th>\n",
              "      <th>retail_price</th>\n",
              "      <th>distribution_center_id</th>\n",
              "    </tr>\n",
              "  </thead>\n",
              "  <tbody>\n",
              "    <tr>\n",
              "      <th>id</th>\n",
              "      <td>1.000000</td>\n",
              "      <td>-0.009885</td>\n",
              "      <td>-0.003223</td>\n",
              "      <td>0.015581</td>\n",
              "    </tr>\n",
              "    <tr>\n",
              "      <th>cost</th>\n",
              "      <td>-0.009885</td>\n",
              "      <td>1.000000</td>\n",
              "      <td>0.982506</td>\n",
              "      <td>0.000443</td>\n",
              "    </tr>\n",
              "    <tr>\n",
              "      <th>retail_price</th>\n",
              "      <td>-0.003223</td>\n",
              "      <td>0.982506</td>\n",
              "      <td>1.000000</td>\n",
              "      <td>-0.012443</td>\n",
              "    </tr>\n",
              "    <tr>\n",
              "      <th>distribution_center_id</th>\n",
              "      <td>0.015581</td>\n",
              "      <td>0.000443</td>\n",
              "      <td>-0.012443</td>\n",
              "      <td>1.000000</td>\n",
              "    </tr>\n",
              "  </tbody>\n",
              "</table>\n",
              "</div>\n",
              "      <button class=\"colab-df-convert\" onclick=\"convertToInteractive('df-a88768d8-473f-4379-abd6-28c5cce0b7d7')\"\n",
              "              title=\"Convert this dataframe to an interactive table.\"\n",
              "              style=\"display:none;\">\n",
              "        \n",
              "  <svg xmlns=\"http://www.w3.org/2000/svg\" height=\"24px\"viewBox=\"0 0 24 24\"\n",
              "       width=\"24px\">\n",
              "    <path d=\"M0 0h24v24H0V0z\" fill=\"none\"/>\n",
              "    <path d=\"M18.56 5.44l.94 2.06.94-2.06 2.06-.94-2.06-.94-.94-2.06-.94 2.06-2.06.94zm-11 1L8.5 8.5l.94-2.06 2.06-.94-2.06-.94L8.5 2.5l-.94 2.06-2.06.94zm10 10l.94 2.06.94-2.06 2.06-.94-2.06-.94-.94-2.06-.94 2.06-2.06.94z\"/><path d=\"M17.41 7.96l-1.37-1.37c-.4-.4-.92-.59-1.43-.59-.52 0-1.04.2-1.43.59L10.3 9.45l-7.72 7.72c-.78.78-.78 2.05 0 2.83L4 21.41c.39.39.9.59 1.41.59.51 0 1.02-.2 1.41-.59l7.78-7.78 2.81-2.81c.8-.78.8-2.07 0-2.86zM5.41 20L4 18.59l7.72-7.72 1.47 1.35L5.41 20z\"/>\n",
              "  </svg>\n",
              "      </button>\n",
              "      \n",
              "  <style>\n",
              "    .colab-df-container {\n",
              "      display:flex;\n",
              "      flex-wrap:wrap;\n",
              "      gap: 12px;\n",
              "    }\n",
              "\n",
              "    .colab-df-convert {\n",
              "      background-color: #E8F0FE;\n",
              "      border: none;\n",
              "      border-radius: 50%;\n",
              "      cursor: pointer;\n",
              "      display: none;\n",
              "      fill: #1967D2;\n",
              "      height: 32px;\n",
              "      padding: 0 0 0 0;\n",
              "      width: 32px;\n",
              "    }\n",
              "\n",
              "    .colab-df-convert:hover {\n",
              "      background-color: #E2EBFA;\n",
              "      box-shadow: 0px 1px 2px rgba(60, 64, 67, 0.3), 0px 1px 3px 1px rgba(60, 64, 67, 0.15);\n",
              "      fill: #174EA6;\n",
              "    }\n",
              "\n",
              "    [theme=dark] .colab-df-convert {\n",
              "      background-color: #3B4455;\n",
              "      fill: #D2E3FC;\n",
              "    }\n",
              "\n",
              "    [theme=dark] .colab-df-convert:hover {\n",
              "      background-color: #434B5C;\n",
              "      box-shadow: 0px 1px 3px 1px rgba(0, 0, 0, 0.15);\n",
              "      filter: drop-shadow(0px 1px 2px rgba(0, 0, 0, 0.3));\n",
              "      fill: #FFFFFF;\n",
              "    }\n",
              "  </style>\n",
              "\n",
              "      <script>\n",
              "        const buttonEl =\n",
              "          document.querySelector('#df-a88768d8-473f-4379-abd6-28c5cce0b7d7 button.colab-df-convert');\n",
              "        buttonEl.style.display =\n",
              "          google.colab.kernel.accessAllowed ? 'block' : 'none';\n",
              "\n",
              "        async function convertToInteractive(key) {\n",
              "          const element = document.querySelector('#df-a88768d8-473f-4379-abd6-28c5cce0b7d7');\n",
              "          const dataTable =\n",
              "            await google.colab.kernel.invokeFunction('convertToInteractive',\n",
              "                                                     [key], {});\n",
              "          if (!dataTable) return;\n",
              "\n",
              "          const docLinkHtml = 'Like what you see? Visit the ' +\n",
              "            '<a target=\"_blank\" href=https://colab.research.google.com/notebooks/data_table.ipynb>data table notebook</a>'\n",
              "            + ' to learn more about interactive tables.';\n",
              "          element.innerHTML = '';\n",
              "          dataTable['output_type'] = 'display_data';\n",
              "          await google.colab.output.renderOutput(dataTable, element);\n",
              "          const docLink = document.createElement('div');\n",
              "          docLink.innerHTML = docLinkHtml;\n",
              "          element.appendChild(docLink);\n",
              "        }\n",
              "      </script>\n",
              "    </div>\n",
              "  </div>\n",
              "  "
            ]
          },
          "metadata": {},
          "execution_count": 38
        }
      ]
    },
    {
      "cell_type": "code",
      "source": [
        "sns.heatmap(products.select_dtypes(['float64', 'int64']).corr(), annot=True, cmap='Greens')\n",
        "plt.show()"
      ],
      "metadata": {
        "colab": {
          "base_uri": "https://localhost:8080/",
          "height": 368
        },
        "id": "Q5H_tIb5l_ad",
        "outputId": "d11617a5-a33e-4fa7-efc9-7c04e7b71dd6"
      },
      "execution_count": 40,
      "outputs": [
        {
          "output_type": "display_data",
          "data": {
            "text/plain": [
              "<Figure size 432x288 with 2 Axes>"
            ],
            "image/png": "[encoded data removed]"
          },
          "metadata": {
            "needs_background": "light"
          }
        }
      ]
    },
    {
      "cell_type": "markdown",
      "source": [
        "## Handling Outlier"
      ],
      "metadata": {
        "id": "SeySX0sGRdRb"
      }
    },
    {
      "cell_type": "code",
      "source": [
        "# Boxplot cost_x\n",
        "sns.boxplot(x='product_distribution_center_id', y='cost_x',data=inner_join)"
      ],
      "metadata": {
        "colab": {
          "base_uri": "https://localhost:8080/",
          "height": 297
        },
        "id": "b8ExpqEwqrmv",
        "outputId": "8cebac3d-f3a8-414b-a74a-e8de1cd8dcbe"
      },
      "execution_count": 50,
      "outputs": [
        {
          "output_type": "execute_result",
          "data": {
            "text/plain": [
              "<matplotlib.axes._subplots.AxesSubplot at 0x7fe095fa6e90>"
            ]
          },
          "metadata": {},
          "execution_count": 50
        },
        {
          "output_type": "display_data",
          "data": {
            "text/plain": [
              "<Figure size 432x288 with 1 Axes>"
            ],
            "image/png": "[encoded data removed]"
          },
          "metadata": {
            "needs_background": "light"
          }
        }
      ]
    },
    {
      "cell_type": "markdown",
      "source": [
        "1. All outliers presented are in all `product_distribution_center_id`.\n",
        "2. We can see the minimum cost and minimum distribution."
      ],
      "metadata": {
        "id": "L6A_R--rqq1W"
      }
    },
    {
      "cell_type": "code",
      "source": [
        "# Histogram cost_x\n",
        "sns.distplot(inner_join['cost_x'], bins=5, kde=True)\n",
        "plt.show()"
      ],
      "metadata": {
        "colab": {
          "base_uri": "https://localhost:8080/",
          "height": 335
        },
        "id": "xZ9c3CDlTnTT",
        "outputId": "c3b63190-6bfb-43eb-aa60-d0118a79d398"
      },
      "execution_count": 51,
      "outputs": [
        {
          "output_type": "stream",
          "name": "stderr",
          "text": [
            "/usr/local/lib/python3.7/dist-packages/seaborn/distributions.py:2619: FutureWarning: `distplot` is a deprecated function and will be removed in a future version. Please adapt your code to use either `displot` (a figure-level function with similar flexibility) or `histplot` (an axes-level function for histograms).\n",
            "  warnings.warn(msg, FutureWarning)\n"
          ]
        },
        {
          "output_type": "display_data",
          "data": {
            "text/plain": [
              "<Figure size 432x288 with 1 Axes>"
            ],
            "image/png": "[encoded data removed]"
          },
          "metadata": {
            "needs_background": "light"
          }
        }
      ]
    },
    {
      "cell_type": "markdown",
      "source": [
        "**Inference:** The average cost_x (which < 100) is the most frequent i.e. this should be in the category of distribution plot."
      ],
      "metadata": {
        "id": "f4s0B8njs5cy"
      }
    },
    {
      "cell_type": "code",
      "source": [
        "sns.barplot(x='cost_x', y='product_id', data=inner_join, estimator=sum, ci=None)\n",
        "plt.show()"
      ],
      "metadata": {
        "colab": {
          "base_uri": "https://localhost:8080/",
          "height": 291
        },
        "id": "o-Xyhp3pzMLj",
        "outputId": "f502bfaa-8af6-40e0-c88f-2edb306f70ea"
      },
      "execution_count": 54,
      "outputs": [
        {
          "output_type": "display_data",
          "data": {
            "text/plain": [
              "<Figure size 432x288 with 1 Axes>"
            ],
            "image/png": "[encoded data removed]"
          },
          "metadata": {
            "needs_background": "light"
          }
        }
      ]
    },
    {
      "cell_type": "markdown",
      "source": [
        "## Handling Missing Value"
      ],
      "metadata": {
        "id": "THh1zkNERac-"
      }
    },
    {
      "cell_type": "code",
      "source": [
        "inner_join.isnull().sum()"
      ],
      "metadata": {
        "colab": {
          "base_uri": "https://localhost:8080/"
        },
        "id": "wkCT60U0RfoA",
        "outputId": "bb089961-8ec5-4b1c-9d60-d77d62ae81d2"
      },
      "execution_count": 23,
      "outputs": [
        {
          "output_type": "execute_result",
          "data": {
            "text/plain": [
              "id                                  0\n",
              "product_id                          0\n",
              "created_at                          0\n",
              "cost_x                              0\n",
              "product_category                    0\n",
              "product_name                       35\n",
              "product_brand                     374\n",
              "product_retail_price                0\n",
              "product_department                  0\n",
              "product_sku                         0\n",
              "product_distribution_center_id      0\n",
              "cost_y                              0\n",
              "category                            0\n",
              "name                                0\n",
              "brand                               0\n",
              "retail_price                        0\n",
              "department                          0\n",
              "sku                                 0\n",
              "distribution_center_id              0\n",
              "dtype: int64"
            ]
          },
          "metadata": {},
          "execution_count": 23
        }
      ]
    },
    {
      "cell_type": "code",
      "source": [
        "inner_join[inner_join.isnull().any(axis=1)][['id', 'product_name', 'product_brand']]"
      ],
      "metadata": {
        "colab": {
          "base_uri": "https://localhost:8080/",
          "height": 455
        },
        "id": "BjmtSUBiRzGM",
        "outputId": "9c6721cd-0551-487c-e6ce-5db98596c4cc"
      },
      "execution_count": 24,
      "outputs": [
        {
          "output_type": "execute_result",
          "data": {
            "text/plain": [
              "                               id                           product_name  \\\n",
              "sold_at                                                                    \n",
              "2021-07-20 14:34:10+00:00   90967  Quiksilver Waterman Men's On The Rise   \n",
              "NaT                         90968  Quiksilver Waterman Men's On The Rise   \n",
              "NaT                         90969  Quiksilver Waterman Men's On The Rise   \n",
              "NaT                         90970  Quiksilver Waterman Men's On The Rise   \n",
              "2020-06-23 23:59:10+00:00   96715  Quiksilver Waterman Men's On The Rise   \n",
              "...                           ...                                    ...   \n",
              "NaT                        414448                                    NaN   \n",
              "NaT                        414449                                    NaN   \n",
              "2022-03-22 12:57:47+00:00  443537                                    NaN   \n",
              "NaT                        443538                                    NaN   \n",
              "NaT                        443539                                    NaN   \n",
              "\n",
              "                             product_brand  \n",
              "sold_at                                     \n",
              "2021-07-20 14:34:10+00:00              NaN  \n",
              "NaT                                    NaN  \n",
              "NaT                                    NaN  \n",
              "NaT                                    NaN  \n",
              "2020-06-23 23:59:10+00:00              NaN  \n",
              "...                                    ...  \n",
              "NaT                        Josie by Natori  \n",
              "NaT                        Josie by Natori  \n",
              "2022-03-22 12:57:47+00:00  Josie by Natori  \n",
              "NaT                        Josie by Natori  \n",
              "NaT                        Josie by Natori  \n",
              "\n",
              "[409 rows x 3 columns]"
            ],
            "text/html": [
              "\n",
              "  <div id=\"df-64bfd4b1-1f73-4b81-8ca1-6e4df6757052\">\n",
              "    <div class=\"colab-df-container\">\n",
              "      <div>\n",
              "<style scoped>\n",
              "    .dataframe tbody tr th:only-of-type {\n",
              "        vertical-align: middle;\n",
              "    }\n",
              "\n",
              "    .dataframe tbody tr th {\n",
              "        vertical-align: top;\n",
              "    }\n",
              "\n",
              "    .dataframe thead th {\n",
              "        text-align: right;\n",
              "    }\n",
              "</style>\n",
              "<table border=\"1\" class=\"dataframe\">\n",
              "  <thead>\n",
              "    <tr style=\"text-align: right;\">\n",
              "      <th></th>\n",
              "      <th>id</th>\n",
              "      <th>product_name</th>\n",
              "      <th>product_brand</th>\n",
              "    </tr>\n",
              "    <tr>\n",
              "      <th>sold_at</th>\n",
              "      <th></th>\n",
              "      <th></th>\n",
              "      <th></th>\n",
              "    </tr>\n",
              "  </thead>\n",
              "  <tbody>\n",
              "    <tr>\n",
              "      <th>2021-07-20 14:34:10+00:00</th>\n",
              "      <td>90967</td>\n",
              "      <td>Quiksilver Waterman Men's On The Rise</td>\n",
              "      <td>NaN</td>\n",
              "    </tr>\n",
              "    <tr>\n",
              "      <th>NaT</th>\n",
              "      <td>90968</td>\n",
              "      <td>Quiksilver Waterman Men's On The Rise</td>\n",
              "      <td>NaN</td>\n",
              "    </tr>\n",
              "    <tr>\n",
              "      <th>NaT</th>\n",
              "      <td>90969</td>\n",
              "      <td>Quiksilver Waterman Men's On The Rise</td>\n",
              "      <td>NaN</td>\n",
              "    </tr>\n",
              "    <tr>\n",
              "      <th>NaT</th>\n",
              "      <td>90970</td>\n",
              "      <td>Quiksilver Waterman Men's On The Rise</td>\n",
              "      <td>NaN</td>\n",
              "    </tr>\n",
              "    <tr>\n",
              "      <th>2020-06-23 23:59:10+00:00</th>\n",
              "      <td>96715</td>\n",
              "      <td>Quiksilver Waterman Men's On The Rise</td>\n",
              "      <td>NaN</td>\n",
              "    </tr>\n",
              "    <tr>\n",
              "      <th>...</th>\n",
              "      <td>...</td>\n",
              "      <td>...</td>\n",
              "      <td>...</td>\n",
              "    </tr>\n",
              "    <tr>\n",
              "      <th>NaT</th>\n",
              "      <td>414448</td>\n",
              "      <td>NaN</td>\n",
              "      <td>Josie by Natori</td>\n",
              "    </tr>\n",
              "    <tr>\n",
              "      <th>NaT</th>\n",
              "      <td>414449</td>\n",
              "      <td>NaN</td>\n",
              "      <td>Josie by Natori</td>\n",
              "    </tr>\n",
              "    <tr>\n",
              "      <th>2022-03-22 12:57:47+00:00</th>\n",
              "      <td>443537</td>\n",
              "      <td>NaN</td>\n",
              "      <td>Josie by Natori</td>\n",
              "    </tr>\n",
              "    <tr>\n",
              "      <th>NaT</th>\n",
              "      <td>443538</td>\n",
              "      <td>NaN</td>\n",
              "      <td>Josie by Natori</td>\n",
              "    </tr>\n",
              "    <tr>\n",
              "      <th>NaT</th>\n",
              "      <td>443539</td>\n",
              "      <td>NaN</td>\n",
              "      <td>Josie by Natori</td>\n",
              "    </tr>\n",
              "  </tbody>\n",
              "</table>\n",
              "<p>409 rows × 3 columns</p>\n",
              "</div>\n",
              "      <button class=\"colab-df-convert\" onclick=\"convertToInteractive('df-64bfd4b1-1f73-4b81-8ca1-6e4df6757052')\"\n",
              "              title=\"Convert this dataframe to an interactive table.\"\n",
              "              style=\"display:none;\">\n",
              "        \n",
              "  <svg xmlns=\"http://www.w3.org/2000/svg\" height=\"24px\"viewBox=\"0 0 24 24\"\n",
              "       width=\"24px\">\n",
              "    <path d=\"M0 0h24v24H0V0z\" fill=\"none\"/>\n",
              "    <path d=\"M18.56 5.44l.94 2.06.94-2.06 2.06-.94-2.06-.94-.94-2.06-.94 2.06-2.06.94zm-11 1L8.5 8.5l.94-2.06 2.06-.94-2.06-.94L8.5 2.5l-.94 2.06-2.06.94zm10 10l.94 2.06.94-2.06 2.06-.94-2.06-.94-.94-2.06-.94 2.06-2.06.94z\"/><path d=\"M17.41 7.96l-1.37-1.37c-.4-.4-.92-.59-1.43-.59-.52 0-1.04.2-1.43.59L10.3 9.45l-7.72 7.72c-.78.78-.78 2.05 0 2.83L4 21.41c.39.39.9.59 1.41.59.51 0 1.02-.2 1.41-.59l7.78-7.78 2.81-2.81c.8-.78.8-2.07 0-2.86zM5.41 20L4 18.59l7.72-7.72 1.47 1.35L5.41 20z\"/>\n",
              "  </svg>\n",
              "      </button>\n",
              "      \n",
              "  <style>\n",
              "    .colab-df-container {\n",
              "      display:flex;\n",
              "      flex-wrap:wrap;\n",
              "      gap: 12px;\n",
              "    }\n",
              "\n",
              "    .colab-df-convert {\n",
              "      background-color: #E8F0FE;\n",
              "      border: none;\n",
              "      border-radius: 50%;\n",
              "      cursor: pointer;\n",
              "      display: none;\n",
              "      fill: #1967D2;\n",
              "      height: 32px;\n",
              "      padding: 0 0 0 0;\n",
              "      width: 32px;\n",
              "    }\n",
              "\n",
              "    .colab-df-convert:hover {\n",
              "      background-color: #E2EBFA;\n",
              "      box-shadow: 0px 1px 2px rgba(60, 64, 67, 0.3), 0px 1px 3px 1px rgba(60, 64, 67, 0.15);\n",
              "      fill: #174EA6;\n",
              "    }\n",
              "\n",
              "    [theme=dark] .colab-df-convert {\n",
              "      background-color: #3B4455;\n",
              "      fill: #D2E3FC;\n",
              "    }\n",
              "\n",
              "    [theme=dark] .colab-df-convert:hover {\n",
              "      background-color: #434B5C;\n",
              "      box-shadow: 0px 1px 3px 1px rgba(0, 0, 0, 0.15);\n",
              "      filter: drop-shadow(0px 1px 2px rgba(0, 0, 0, 0.3));\n",
              "      fill: #FFFFFF;\n",
              "    }\n",
              "  </style>\n",
              "\n",
              "      <script>\n",
              "        const buttonEl =\n",
              "          document.querySelector('#df-64bfd4b1-1f73-4b81-8ca1-6e4df6757052 button.colab-df-convert');\n",
              "        buttonEl.style.display =\n",
              "          google.colab.kernel.accessAllowed ? 'block' : 'none';\n",
              "\n",
              "        async function convertToInteractive(key) {\n",
              "          const element = document.querySelector('#df-64bfd4b1-1f73-4b81-8ca1-6e4df6757052');\n",
              "          const dataTable =\n",
              "            await google.colab.kernel.invokeFunction('convertToInteractive',\n",
              "                                                     [key], {});\n",
              "          if (!dataTable) return;\n",
              "\n",
              "          const docLinkHtml = 'Like what you see? Visit the ' +\n",
              "            '<a target=\"_blank\" href=https://colab.research.google.com/notebooks/data_table.ipynb>data table notebook</a>'\n",
              "            + ' to learn more about interactive tables.';\n",
              "          element.innerHTML = '';\n",
              "          dataTable['output_type'] = 'display_data';\n",
              "          await google.colab.output.renderOutput(dataTable, element);\n",
              "          const docLink = document.createElement('div');\n",
              "          docLink.innerHTML = docLinkHtml;\n",
              "          element.appendChild(docLink);\n",
              "        }\n",
              "      </script>\n",
              "    </div>\n",
              "  </div>\n",
              "  "
            ]
          },
          "metadata": {},
          "execution_count": 24
        }
      ]
    },
    {
      "cell_type": "markdown",
      "source": [
        "> We can't see them all in this display, but it looks like they may all have delay of 0. Let's check by looking at the summary statistics for these records:"
      ],
      "metadata": {
        "id": "3l7tmeQ3TSuE"
      }
    },
    {
      "cell_type": "code",
      "source": [
        "inner_join[inner_join.isnull().any(axis=1)].product_name.describe()"
      ],
      "metadata": {
        "colab": {
          "base_uri": "https://localhost:8080/"
        },
        "id": "q-lND_tbSNmT",
        "outputId": "a8df08e1-5ef2-4f3b-f377-d4539141524e"
      },
      "execution_count": 25,
      "outputs": [
        {
          "output_type": "execute_result",
          "data": {
            "text/plain": [
              "count                                                   374\n",
              "unique                                                   22\n",
              "top       NEW Aluminum Credit Card Wallet - RFID Blockin...\n",
              "freq                                                     26\n",
              "Name: product_name, dtype: object"
            ]
          },
          "metadata": {},
          "execution_count": 25
        }
      ]
    },
    {
      "cell_type": "code",
      "source": [
        "inner_join[inner_join.isnull().any(axis=1)].product_brand.describe()"
      ],
      "metadata": {
        "colab": {
          "base_uri": "https://localhost:8080/"
        },
        "id": "OyZQ8Y_jSfH4",
        "outputId": "cf005427-94a0-4027-cb03-418742ba071e"
      },
      "execution_count": 26,
      "outputs": [
        {
          "output_type": "execute_result",
          "data": {
            "text/plain": [
              "count                  35\n",
              "unique                  2\n",
              "top       Josie by Natori\n",
              "freq                   18\n",
              "Name: product_brand, dtype: object"
            ]
          },
          "metadata": {},
          "execution_count": 26
        }
      ]
    },
    {
      "cell_type": "markdown",
      "source": [
        "> The min, max, and mean are all 0. Let's replace the missing product_name and product_brand indicator with a 0 and confirm there are no more missing values."
      ],
      "metadata": {
        "id": "S_MVJiGPTC9y"
      }
    },
    {
      "cell_type": "code",
      "source": [
        "inner_join.product_name = inner_join.product_name.fillna(0)\n",
        "inner_join.product_brand = inner_join.product_brand.fillna(0)\n",
        "\n",
        "inner_join.isnull().sum()"
      ],
      "metadata": {
        "colab": {
          "base_uri": "https://localhost:8080/"
        },
        "id": "odR8ksqrSx_F",
        "outputId": "b331fd67-42de-4252-ab3a-6ffb4cd2d836"
      },
      "execution_count": 27,
      "outputs": [
        {
          "output_type": "execute_result",
          "data": {
            "text/plain": [
              "id                                0\n",
              "product_id                        0\n",
              "created_at                        0\n",
              "cost_x                            0\n",
              "product_category                  0\n",
              "product_name                      0\n",
              "product_brand                     0\n",
              "product_retail_price              0\n",
              "product_department                0\n",
              "product_sku                       0\n",
              "product_distribution_center_id    0\n",
              "cost_y                            0\n",
              "category                          0\n",
              "name                              0\n",
              "brand                             0\n",
              "retail_price                      0\n",
              "department                        0\n",
              "sku                               0\n",
              "distribution_center_id            0\n",
              "dtype: int64"
            ]
          },
          "metadata": {},
          "execution_count": 27
        }
      ]
    },
    {
      "cell_type": "markdown",
      "source": [
        "# MODEL DEVELOPMENT"
      ],
      "metadata": {
        "id": "QrTa0HV4zxla"
      }
    },
    {
      "cell_type": "code",
      "source": [
        "from sklearn.preprocessing import LabelEncoder"
      ],
      "metadata": {
        "id": "cFEgbphj5CfW"
      },
      "execution_count": 57,
      "outputs": []
    },
    {
      "cell_type": "markdown",
      "source": [
        "Kita dapat memakai model linear regression menggunakan fitur `product_distribution_center_id` dan menghitung R^2."
      ],
      "metadata": {
        "id": "ybsQbvmg97-q"
      }
    },
    {
      "cell_type": "code",
      "source": [
        "X = inner_join[['product_distribution_center_id']]\n",
        "Y = inner_join['cost_x']\n",
        "lm = LinearRegression()\n",
        "lm.fit(X, Y)\n",
        "lm.score(X, Y)"
      ],
      "metadata": {
        "colab": {
          "base_uri": "https://localhost:8080/"
        },
        "id": "uq5nvUGx6S4H",
        "outputId": "186fc1ca-b9f2-4e85-a7ea-3c58a4f49fc8"
      },
      "execution_count": 72,
      "outputs": [
        {
          "output_type": "execute_result",
          "data": {
            "text/plain": [
              "3.230269047505008e-05"
            ]
          },
          "metadata": {},
          "execution_count": 72
        }
      ]
    },
    {
      "cell_type": "markdown",
      "source": [
        "Gunakan model linear regression untuk memprediksi `cost_x` dengan menggunakan fitur `product_retail_price` kemudian hitung R^2. "
      ],
      "metadata": {
        "id": "zUOyi426-DWr"
      }
    },
    {
      "cell_type": "code",
      "source": [
        "X = inner_join[['product_retail_price']]\n",
        "Y = inner_join['cost_x']\n",
        "lr = LinearRegression()\n",
        "lr.fit(X, Y)\n",
        "lr.score(X, Y)"
      ],
      "metadata": {
        "colab": {
          "base_uri": "https://localhost:8080/"
        },
        "id": "tQE-ry499BQP",
        "outputId": "3ac1fa3e-5b71-4854-e9aa-21ef2b22eebd"
      },
      "execution_count": 74,
      "outputs": [
        {
          "output_type": "execute_result",
          "data": {
            "text/plain": [
              "0.9653530311368302"
            ]
          },
          "metadata": {},
          "execution_count": 74
        }
      ]
    },
    {
      "cell_type": "markdown",
      "source": [
        "Gunakan model linear regression untuk memprediksi `cost_x` menggunakan daftar fitur sbb:"
      ],
      "metadata": {
        "id": "EzXM6gdJ_mky"
      }
    },
    {
      "cell_type": "code",
      "source": [
        "features = [\"brand\"]     "
      ],
      "metadata": {
        "id": "QxHx7vY_-Kri"
      },
      "execution_count": 80,
      "outputs": []
    },
    {
      "cell_type": "code",
      "source": [
        "# Menghitung R^2\n",
        "X = inner_join[features]\n",
        "Y = inner_join['cost_x']\n",
        "lr.fit(X, Y)\n",
        "lr.score(X, Y)"
      ],
      "metadata": {
        "colab": {
          "base_uri": "https://localhost:8080/"
        },
        "id": "0tzZVKjZ92c4",
        "outputId": "ede3d043-b7ee-4a81-8787-ab73d59dbfd8"
      },
      "execution_count": 81,
      "outputs": [
        {
          "output_type": "execute_result",
          "data": {
            "text/plain": [
              "0.00013340134394002057"
            ]
          },
          "metadata": {},
          "execution_count": 81
        }
      ]
    },
    {
      "cell_type": "code",
      "source": [
        "from sklearn.pipeline import Pipeline\n",
        "from sklearn.preprocessing import StandardScaler,PolynomialFeatures\n",
        "from sklearn.linear_model import LinearRegression\n",
        "%matplotlib inline"
      ],
      "metadata": {
        "id": "kgzcjspdANfX"
      },
      "execution_count": 83,
      "outputs": []
    },
    {
      "cell_type": "code",
      "source": [
        "Input = [('scale', StandardScaler()),\n",
        "       ('polynomial', PolynomialFeatures(include_bias=False)),\n",
        "       ('model',LinearRegression())]"
      ],
      "metadata": {
        "id": "39IbnGe__8ul"
      },
      "execution_count": 84,
      "outputs": []
    },
    {
      "cell_type": "code",
      "source": [
        "X = inner_join[features]\n",
        "Y = inner_join['cost_x']\n",
        "pipe = Pipeline(Input)\n",
        "pipe.fit(X, Y)\n",
        "pipe.score(X, Y)"
      ],
      "metadata": {
        "colab": {
          "base_uri": "https://localhost:8080/"
        },
        "id": "rm_16tINAPij",
        "outputId": "555015f8-bd6e-4e9b-cfe3-6617a1536879"
      },
      "execution_count": 85,
      "outputs": [
        {
          "output_type": "execute_result",
          "data": {
            "text/plain": [
              "0.00013340134390915637"
            ]
          },
          "metadata": {},
          "execution_count": 85
        }
      ]
    },
    {
      "cell_type": "markdown",
      "source": [
        "# MODEL EVALUATION"
      ],
      "metadata": {
        "id": "SEdvJzOaAcpJ"
      }
    },
    {
      "cell_type": "code",
      "source": [
        "from sklearn.model_selection import cross_val_score\n",
        "from sklearn.model_selection import train_test_split\n",
        "print(\"done\")"
      ],
      "metadata": {
        "colab": {
          "base_uri": "https://localhost:8080/"
        },
        "id": "qY2N4BT3AZZG",
        "outputId": "50f49593-d6a3-4787-b2f3-a5c03c6033c7"
      },
      "execution_count": 86,
      "outputs": [
        {
          "output_type": "stream",
          "name": "stdout",
          "text": [
            "done\n"
          ]
        }
      ]
    },
    {
      "cell_type": "code",
      "source": [
        "features =[\"brand\"]    \n",
        "X = inner_join[features]\n",
        "Y = inner_join['cost_x']\n",
        "\n",
        "x_train, x_test, y_train, y_test = train_test_split(X, Y, test_size=0.15, random_state=1)\n",
        "\n",
        "print(\"Number of test samples\\t\\t:\", x_test.shape[0])\n",
        "print(\"Number of training samples\\t:\",x_train.shape[0])"
      ],
      "metadata": {
        "colab": {
          "base_uri": "https://localhost:8080/"
        },
        "id": "LM5EhPiBAfab",
        "outputId": "095c042e-74e9-4b6b-da00-3bf4f459084f"
      },
      "execution_count": 91,
      "outputs": [
        {
          "output_type": "stream",
          "name": "stdout",
          "text": [
            "Number of test samples\t\t: 73110\n",
            "Number of training samples\t: 414284\n"
          ]
        }
      ]
    },
    {
      "cell_type": "code",
      "source": [
        "from sklearn.linear_model import Ridge"
      ],
      "metadata": {
        "id": "k_XVDyhzAjXt"
      },
      "execution_count": 92,
      "outputs": []
    },
    {
      "cell_type": "code",
      "source": [
        "rm = Ridge(alpha=0.1)\n",
        "rm.fit(x_train, y_train)\n",
        "rm.score(x_test, y_test)"
      ],
      "metadata": {
        "colab": {
          "base_uri": "https://localhost:8080/"
        },
        "id": "guHUIovhAj8U",
        "outputId": "fe7836b3-8664-456c-abe6-d4d1492c1232"
      },
      "execution_count": 94,
      "outputs": [
        {
          "output_type": "execute_result",
          "data": {
            "text/plain": [
              "8.502585834357923e-05"
            ]
          },
          "metadata": {},
          "execution_count": 94
        }
      ]
    },
    {
      "cell_type": "code",
      "source": [
        "pr = PolynomialFeatures(degree=2) #second order polynomial\n",
        "x_train_pr = pr.fit_transform(x_train) #train data\n",
        "x_test_pr = pr.fit_transform(x_test) #test data\n",
        "\n",
        "rr = Ridge(alpha=0.1) #Regularization strength; must be a positive float. Regularization improves the conditioning of the problem and reduces the variance of the estimates. Larger values specify stronger regularization.\n",
        "rr.fit(x_train_pr, y_train)\n",
        "rr.score(x_test_pr, y_test)"
      ],
      "metadata": {
        "colab": {
          "base_uri": "https://localhost:8080/"
        },
        "id": "rLcUx7DAAmN3",
        "outputId": "01849cc4-d3f5-43c9-90c6-b66a4b7f1afe"
      },
      "execution_count": 95,
      "outputs": [
        {
          "output_type": "execute_result",
          "data": {
            "text/plain": [
              "8.501901312374383e-05"
            ]
          },
          "metadata": {},
          "execution_count": 95
        }
      ]
    },
    {
      "cell_type": "markdown",
      "source": [
        ""
      ],
      "metadata": {
        "id": "E9P_DZ_XCgBJ"
      }
    },
    {
      "cell_type": "code",
      "source": [
        "from sklearn.linear_model import LinearRegression\n",
        "\n",
        "regressor = LinearRegression()\n",
        "regressor.fit(x_train, y_train)"
      ],
      "metadata": {
        "colab": {
          "base_uri": "https://localhost:8080/"
        },
        "id": "WJ0tMTO4CU5-",
        "outputId": "d45259a1-e8e3-4622-d1e8-ac0e6b66cbd2"
      },
      "execution_count": 100,
      "outputs": [
        {
          "output_type": "execute_result",
          "data": {
            "text/plain": [
              "LinearRegression()"
            ]
          },
          "metadata": {},
          "execution_count": 100
        }
      ]
    },
    {
      "cell_type": "code",
      "source": [
        "# melakukan prediksi untuk hasil test set\n",
        "y_pred = regressor.predict(x_test)\n",
        "print(y_pred)"
      ],
      "metadata": {
        "colab": {
          "base_uri": "https://localhost:8080/"
        },
        "id": "LJu9k-RmCewG",
        "outputId": "ec05cecd-b3dd-4546-8f3a-64be8cb2446b"
      },
      "execution_count": 101,
      "outputs": [
        {
          "output_type": "stream",
          "name": "stdout",
          "text": [
            "[28.76433684 28.76433684 28.76433684 ... 28.76433684 28.76433684\n",
            " 28.76433684]\n"
          ]
        }
      ]
    },
    {
      "cell_type": "code",
      "source": [
        "df = pd.DataFrame(inner_join)\n",
        "df.head"
      ],
      "metadata": {
        "colab": {
          "base_uri": "https://localhost:8080/"
        },
        "id": "VcXw8U8YDdqI",
        "outputId": "b870c143-f65e-46cc-b388-ae020790ba2b"
      },
      "execution_count": 106,
      "outputs": [
        {
          "output_type": "execute_result",
          "data": {
            "text/plain": [
              "<bound method NDFrame.head of             id  product_id                 created_at  \\\n",
              "0        90967       16898  2021-07-19 02:20:10+00:00   \n",
              "1        90968       16898  2020-04-13 07:46:00+00:00   \n",
              "2        90969       16898  2020-09-02 17:43:00+00:00   \n",
              "3        90970       16898  2021-08-19 15:17:00+00:00   \n",
              "4        96715       16898  2020-05-09 11:16:10+00:00   \n",
              "...        ...         ...                        ...   \n",
              "487389  234443       14392  2020-04-09 17:38:00+00:00   \n",
              "487390  290890       14392  2021-03-18 14:42:49+00:00   \n",
              "487391  290891       14392  2022-04-25 03:04:00+00:00   \n",
              "487392  301361       14392  2021-05-15 11:44:11+00:00   \n",
              "487393  301362       14392  2020-06-22 15:50:00+00:00   \n",
              "\n",
              "                          sold_at     cost_x product_category  \\\n",
              "0       2021-07-20 14:34:10+00:00  13.925000      Tops & Tees   \n",
              "1                             NaN  13.925000      Tops & Tees   \n",
              "2                             NaN  13.925000      Tops & Tees   \n",
              "3                             NaN  13.925000      Tops & Tees   \n",
              "4       2020-06-23 23:59:10+00:00  13.925000      Tops & Tees   \n",
              "...                           ...        ...              ...   \n",
              "487389                        NaN  15.752521        Maternity   \n",
              "487390  2021-05-15 04:49:49+00:00  15.752521        Maternity   \n",
              "487391                        NaN  15.752521        Maternity   \n",
              "487392  2021-06-27 04:00:11+00:00  15.752521        Maternity   \n",
              "487393                        NaN  15.752521        Maternity   \n",
              "\n",
              "                                             product_name  \\\n",
              "0                   Quiksilver Waterman Men's On The Rise   \n",
              "1                   Quiksilver Waterman Men's On The Rise   \n",
              "2                   Quiksilver Waterman Men's On The Rise   \n",
              "3                   Quiksilver Waterman Men's On The Rise   \n",
              "4                   Quiksilver Waterman Men's On The Rise   \n",
              "...                                                   ...   \n",
              "487389  La Leche League International Pullover Nursing...   \n",
              "487390  La Leche League International Pullover Nursing...   \n",
              "487391  La Leche League International Pullover Nursing...   \n",
              "487392  La Leche League International Pullover Nursing...   \n",
              "487393  La Leche League International Pullover Nursing...   \n",
              "\n",
              "                                    product_brand  product_retail_price  \\\n",
              "0                                             NaN             25.000000   \n",
              "1                                             NaN             25.000000   \n",
              "2                                             NaN             25.000000   \n",
              "3                                             NaN             25.000000   \n",
              "4                                             NaN             25.000000   \n",
              "...                                           ...                   ...   \n",
              "487389  La Leche League Sports Nurising Bra White             35.720001   \n",
              "487390  La Leche League Sports Nurising Bra White             35.720001   \n",
              "487391  La Leche League Sports Nurising Bra White             35.720001   \n",
              "487392  La Leche League Sports Nurising Bra White             35.720001   \n",
              "487393  La Leche League Sports Nurising Bra White             35.720001   \n",
              "\n",
              "       product_department                       product_sku  \\\n",
              "0                     Men  22811EE19846217512507785E74D12CC   \n",
              "1                     Men  22811EE19846217512507785E74D12CC   \n",
              "2                     Men  22811EE19846217512507785E74D12CC   \n",
              "3                     Men  22811EE19846217512507785E74D12CC   \n",
              "4                     Men  22811EE19846217512507785E74D12CC   \n",
              "...                   ...                               ...   \n",
              "487389              Women  625D2D3101C23C47A46984741C232FED   \n",
              "487390              Women  625D2D3101C23C47A46984741C232FED   \n",
              "487391              Women  625D2D3101C23C47A46984741C232FED   \n",
              "487392              Women  625D2D3101C23C47A46984741C232FED   \n",
              "487393              Women  625D2D3101C23C47A46984741C232FED   \n",
              "\n",
              "        product_distribution_center_id  cost_y  category  name  brand  \\\n",
              "0                                    3       1         1     1      0   \n",
              "1                                    3       1         1     1      0   \n",
              "2                                    3       1         1     1      0   \n",
              "3                                    3       1         1     1      0   \n",
              "4                                    3       1         1     1      0   \n",
              "...                                ...     ...       ...   ...    ...   \n",
              "487389                               9       1         1     1      1   \n",
              "487390                               9       1         1     1      1   \n",
              "487391                               9       1         1     1      1   \n",
              "487392                               9       1         1     1      1   \n",
              "487393                               9       1         1     1      1   \n",
              "\n",
              "        retail_price  department  sku  distribution_center_id  \n",
              "0                  1           1    1                       1  \n",
              "1                  1           1    1                       1  \n",
              "2                  1           1    1                       1  \n",
              "3                  1           1    1                       1  \n",
              "4                  1           1    1                       1  \n",
              "...              ...         ...  ...                     ...  \n",
              "487389             1           1    1                       1  \n",
              "487390             1           1    1                       1  \n",
              "487391             1           1    1                       1  \n",
              "487392             1           1    1                       1  \n",
              "487393             1           1    1                       1  \n",
              "\n",
              "[487394 rows x 20 columns]>"
            ]
          },
          "metadata": {},
          "execution_count": 106
        }
      ]
    },
    {
      "cell_type": "code",
      "source": [
        "# Evaluasi model linear regression\n",
        "from sklearn.metrics import mean_squared_error\n",
        "from math import sqrt\n",
        "\n",
        "print(\"Aktual\\t\\t: \", y_test)\n",
        "print(\"Prediksi\\t: \", y_pred)\n",
        "print(\"RMSE\\t\\t: \", sqrt(mean_squared_error(y_test, y_pred)))"
      ],
      "metadata": {
        "colab": {
          "base_uri": "https://localhost:8080/"
        },
        "id": "P59YAAouBOh4",
        "outputId": "57d713d4-0660-4868-83c3-89feed455f70"
      },
      "execution_count": 105,
      "outputs": [
        {
          "output_type": "stream",
          "name": "stdout",
          "text": [
            "Aktual\t\t:  172274    23.306710\n",
            "333228    75.116000\n",
            "63126     11.940570\n",
            "27244     52.920000\n",
            "376627    42.283299\n",
            "            ...    \n",
            "140070    73.260000\n",
            "249632     7.241000\n",
            "204443    22.386000\n",
            "245820    49.196000\n",
            "364206     9.080000\n",
            "Name: cost_x, Length: 73110, dtype: float64\n",
            "Prediksi\t:  [28.76433684 28.76433684 28.76433684 ... 28.76433684 28.76433684\n",
            " 28.76433684]\n",
            "RMSE\t\t:  30.340172011414772\n"
          ]
        }
      ]
    },
    {
      "cell_type": "markdown",
      "source": [
        ""
      ],
      "metadata": {
        "id": "oSznywTOEiUX"
      }
    },
    {
      "cell_type": "code",
      "source": [
        "from sklearn.metrics import r2_score\n",
        "\n",
        "r2Score = r2_score(y_pred, y_test)\n",
        "print(\"R2 score of model is\\t: \" , r2Score*100)"
      ],
      "metadata": {
        "colab": {
          "base_uri": "https://localhost:8080/"
        },
        "id": "1OOZjexWEhrX",
        "outputId": "8cbeba17-b187-4b63-b073-8b139d32166b"
      },
      "execution_count": 113,
      "outputs": [
        {
          "output_type": "stream",
          "name": "stdout",
          "text": [
            "R2 score of model is\t:  -756968.7042715822\n"
          ]
        }
      ]
    },
    {
      "cell_type": "code",
      "source": [
        "from sklearn.metrics import mean_squared_error\n",
        "\n",
        "mse = mean_squared_error(y_pred, y_test)\n",
        "print(\"Mean Squarred Error is\\t: \" , mse*100)"
      ],
      "metadata": {
        "colab": {
          "base_uri": "https://localhost:8080/"
        },
        "id": "APlJXQ_sEt9a",
        "outputId": "ec4238c7-56ca-4f21-9439-63b0a7e7fe77"
      },
      "execution_count": 114,
      "outputs": [
        {
          "output_type": "stream",
          "name": "stdout",
          "text": [
            "Mean Squarred Error is\t:  92052.60376822363\n"
          ]
        }
      ]
    },
    {
      "cell_type": "code",
      "source": [
        "rmse = np.sqrt(mean_squared_error(y_pred, y_test))\n",
        "print(\"Root Mean Squarred Error is\\t: \", rmse*100)"
      ],
      "metadata": {
        "colab": {
          "base_uri": "https://localhost:8080/"
        },
        "id": "bvfhdVNcEeKw",
        "outputId": "841a1a93-46d6-43a1-82f3-a36c1dc3c62c"
      },
      "execution_count": 112,
      "outputs": [
        {
          "output_type": "stream",
          "name": "stdout",
          "text": [
            "Root Mean Squarred Error is\t:  3034.017201141477\n"
          ]
        }
      ]
    },
    {
      "cell_type": "code",
      "source": [
        "from sklearn.metrics import mean_absolute_error\n",
        "\n",
        "mae = mean_absolute_error(y_pred, y_test)\n",
        "print(\"Mean Absolute Error is\\t: \" , mae)"
      ],
      "metadata": {
        "colab": {
          "base_uri": "https://localhost:8080/"
        },
        "id": "llOdDDQMEx5H",
        "outputId": "1565aaf7-0068-4c14-9543-a4b6315ebb7e"
      },
      "execution_count": 115,
      "outputs": [
        {
          "output_type": "stream",
          "name": "stdout",
          "text": [
            "Mean Absolute Error is\t:  18.9359949881828\n"
          ]
        }
      ]
    },
    {
      "cell_type": "markdown",
      "source": [
        "> **Conclusion**\n",
        "\n",
        "So, the mean absolute error is '18.9359949881828'. Therefore our predicted value can be 6503.577323580025 units more or less than the actual value."
      ],
      "metadata": {
        "id": "nT6ofhehE5kG"
      }
    }
  ]
}